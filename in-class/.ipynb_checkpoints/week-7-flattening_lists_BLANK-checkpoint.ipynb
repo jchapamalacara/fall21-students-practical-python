{
 "cells": [
  {
   "cell_type": "markdown",
   "metadata": {
    "id": "flMPO8hmiR5r"
   },
   "source": [
    "# Flattening a List of Iterables"
   ]
  },
  {
   "cell_type": "code",
   "execution_count": null,
   "metadata": {
    "id": "KIzySxpziR5x"
   },
   "outputs": [],
   "source": [
    "## you have a list that contains lists\n",
    "big_list = [[1, 2, 3], [4, 5, 6], [7], [8, 9]]\n",
    "big_list"
   ]
  },
  {
   "cell_type": "code",
   "execution_count": null,
   "metadata": {
    "id": "lxV6V9KFiR5y"
   },
   "outputs": [],
   "source": [
    "## let's do something simple like add 10 to each item in the list\n"
   ]
  },
  {
   "cell_type": "code",
   "execution_count": null,
   "metadata": {
    "id": "5K4Kw-m1iR5z"
   },
   "outputs": [],
   "source": [
    "## what actually is in this list?"
   ]
  },
  {
   "cell_type": "markdown",
   "metadata": {
    "id": "IwznjHICiX8a"
   },
   "source": [
    "## Flatten with For Loop"
   ]
  },
  {
   "cell_type": "markdown",
   "metadata": {
    "id": "Sqg81lEciR5z"
   },
   "source": [
    "<img src=\"https://github.com/sandeepmj/fall20-student-practical-python/blob/master/support_files/flat_fl.png?raw=true\" width=\"75%\">"
   ]
  },
  {
   "cell_type": "code",
   "execution_count": null,
   "metadata": {
    "id": "QEWY_jaIiR5z"
   },
   "outputs": [],
   "source": [
    "## for loop to create a flat_list\n"
   ]
  },
  {
   "cell_type": "markdown",
   "metadata": {
    "id": "6MVc0RTYioN6"
   },
   "source": [
    "## Flatten with List Comprehension"
   ]
  },
  {
   "cell_type": "markdown",
   "metadata": {
    "id": "zLVXsVvmiR50"
   },
   "source": [
    "<img src=\"https://github.com/sandeepmj/fall20-student-practical-python/blob/master/support_files/flat_lc.png?raw=true\" width=\"75%\">"
   ]
  },
  {
   "cell_type": "code",
   "execution_count": null,
   "metadata": {
    "id": "O6RLNy8wiR50"
   },
   "outputs": [],
   "source": [
    "## list comprehension to create a flat_list_lc\n",
    "\n"
   ]
  },
  {
   "cell_type": "markdown",
   "metadata": {
    "id": "D8UTPFJpiR50"
   },
   "source": [
    "## ```itertools```\n",
    "\n",
    "```itertools``` is a native Python module that allows efficient processing of iterables.\n",
    "\n",
    "<a href=\"https://docs.python.org/3/library/itertools.html\">More info</a> on all itertools methods."
   ]
  },
  {
   "cell_type": "code",
   "execution_count": null,
   "metadata": {
    "id": "JyOEotUqiR50"
   },
   "outputs": [],
   "source": [
    "## use itertools\n"
   ]
  },
  {
   "cell_type": "markdown",
   "metadata": {
    "id": "Zc-mF5N4iR51"
   },
   "source": [
    "### Flatten a list of tuples"
   ]
  },
  {
   "cell_type": "code",
   "execution_count": null,
   "metadata": {
    "id": "3zMwziWciR51"
   },
   "outputs": [],
   "source": [
    "## a list of tuples that are the a number and its square\n",
    "my_tupes = [(1,1), (2,4), (3,9), (4,16)]\n",
    "my_tupes"
   ]
  },
  {
   "cell_type": "code",
   "execution_count": null,
   "metadata": {
    "id": "BMj2uNKuiR51"
   },
   "outputs": [],
   "source": [
    "## flatten using a for loop and place in a list called flat_tupes\n",
    "\n",
    "        "
   ]
  },
  {
   "cell_type": "code",
   "execution_count": null,
   "metadata": {
    "id": "LIMEd3puiR51"
   },
   "outputs": [],
   "source": [
    "## flatten using list comprehension and place in list called flat_tupes_lc\n"
   ]
  },
  {
   "cell_type": "code",
   "execution_count": null,
   "metadata": {
    "id": "ntvBvWoqiR52"
   },
   "outputs": [],
   "source": [
    "## using itertools\n"
   ]
  },
  {
   "cell_type": "code",
   "execution_count": null,
   "metadata": {
    "id": "2dDUpsEkiR52"
   },
   "outputs": [],
   "source": []
  }
 ],
 "metadata": {
  "celltoolbar": "Slideshow",
  "colab": {
   "collapsed_sections": [
    "IwznjHICiX8a",
    "6MVc0RTYioN6",
    "D8UTPFJpiR50"
   ],
   "name": "week-7-flattening_lists_BLANK.ipynb",
   "provenance": [
    {
     "file_id": "1wzBP-ZqICa9FmuZnpBkZdoJkvXUckKVD",
     "timestamp": 1628019802440
    }
   ]
  },
  "kernelspec": {
   "display_name": "Python 3",
   "language": "python",
   "name": "python3"
  },
  "language_info": {
   "codemirror_mode": {
    "name": "ipython",
    "version": 3
   },
   "file_extension": ".py",
   "mimetype": "text/x-python",
   "name": "python",
   "nbconvert_exporter": "python",
   "pygments_lexer": "ipython3",
   "version": "3.8.8"
  }
 },
 "nbformat": 4,
 "nbformat_minor": 1
}
