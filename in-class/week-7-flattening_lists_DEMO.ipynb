{
 "cells": [
  {
   "cell_type": "markdown",
   "metadata": {
    "id": "flMPO8hmiR5r"
   },
   "source": [
    "# Flattening a List of Iterables"
   ]
  },
  {
   "cell_type": "code",
   "execution_count": 1,
   "metadata": {
    "id": "KIzySxpziR5x"
   },
   "outputs": [
    {
     "data": {
      "text/plain": [
       "[[1, 2, 3], [4, 5, 6], [7], [8, 9]]"
      ]
     },
     "execution_count": 1,
     "metadata": {},
     "output_type": "execute_result"
    }
   ],
   "source": [
    "## you have a list that contains lists\n",
    "big_list = [[1, 2, 3], [4, 5, 6], [7], [8, 9]]\n",
    "big_list"
   ]
  },
  {
   "cell_type": "code",
   "execution_count": 2,
   "metadata": {
    "collapsed": true
   },
   "outputs": [
    {
     "name": "stdout",
     "output_type": "stream",
     "text": [
      "The Zen of Python, by Tim Peters\n",
      "\n",
      "Beautiful is better than ugly.\n",
      "Explicit is better than implicit.\n",
      "Simple is better than complex.\n",
      "Complex is better than complicated.\n",
      "Flat is better than nested.\n",
      "Sparse is better than dense.\n",
      "Readability counts.\n",
      "Special cases aren't special enough to break the rules.\n",
      "Although practicality beats purity.\n",
      "Errors should never pass silently.\n",
      "Unless explicitly silenced.\n",
      "In the face of ambiguity, refuse the temptation to guess.\n",
      "There should be one-- and preferably only one --obvious way to do it.\n",
      "Although that way may not be obvious at first unless you're Dutch.\n",
      "Now is better than never.\n",
      "Although never is often better than *right* now.\n",
      "If the implementation is hard to explain, it's a bad idea.\n",
      "If the implementation is easy to explain, it may be a good idea.\n",
      "Namespaces are one honking great idea -- let's do more of those!\n"
     ]
    }
   ],
   "source": [
    "import this"
   ]
  },
  {
   "cell_type": "code",
   "execution_count": 8,
   "metadata": {
    "id": "lxV6V9KFiR5y"
   },
   "outputs": [
    {
     "name": "stdout",
     "output_type": "stream",
     "text": [
      "<class 'list'>\n",
      "<class 'list'>\n",
      "<class 'list'>\n",
      "<class 'list'>\n"
     ]
    }
   ],
   "source": [
    "## let's do something simple like add 10 to each item in the list\n",
    "for number in big_list:\n",
    "    print(type(number))\n",
    "#     print(f\"{number+10}\")"
   ]
  },
  {
   "cell_type": "code",
   "execution_count": 3,
   "metadata": {},
   "outputs": [
    {
     "data": {
      "text/plain": [
       "4"
      ]
     },
     "execution_count": 3,
     "metadata": {},
     "output_type": "execute_result"
    }
   ],
   "source": [
    "len(big_list)"
   ]
  },
  {
   "cell_type": "code",
   "execution_count": null,
   "metadata": {
    "id": "5K4Kw-m1iR5z"
   },
   "outputs": [],
   "source": [
    "## what actually is in this list?"
   ]
  },
  {
   "cell_type": "markdown",
   "metadata": {
    "id": "IwznjHICiX8a"
   },
   "source": [
    "## Flatten with For Loop"
   ]
  },
  {
   "cell_type": "markdown",
   "metadata": {
    "id": "Sqg81lEciR5z"
   },
   "source": [
    "<img src=\"https://github.com/sandeepmj/fall20-student-practical-python/blob/master/support_files/flat_fl.png?raw=true\" width=\"75%\">"
   ]
  },
  {
   "cell_type": "code",
   "execution_count": 9,
   "metadata": {
    "id": "QEWY_jaIiR5z"
   },
   "outputs": [
    {
     "data": {
      "text/plain": [
       "[1, 2, 3, 4, 5, 6, 7, 8, 9]"
      ]
     },
     "execution_count": 9,
     "metadata": {},
     "output_type": "execute_result"
    }
   ],
   "source": [
    "## for loop to create a flat_list\n",
    "flat_list = []\n",
    "for sub_list in big_list:\n",
    "    for item in sub_list:\n",
    "        flat_list.append(item)\n",
    "        \n",
    "flat_list"
   ]
  },
  {
   "cell_type": "markdown",
   "metadata": {
    "id": "6MVc0RTYioN6"
   },
   "source": [
    "## Flatten with List Comprehension"
   ]
  },
  {
   "cell_type": "markdown",
   "metadata": {
    "id": "zLVXsVvmiR50"
   },
   "source": [
    "<img src=\"https://github.com/sandeepmj/fall20-student-practical-python/blob/master/support_files/flat_lc.png?raw=true\" width=\"75%\">"
   ]
  },
  {
   "cell_type": "code",
   "execution_count": 10,
   "metadata": {
    "id": "O6RLNy8wiR50"
   },
   "outputs": [
    {
     "data": {
      "text/plain": [
       "[1, 2, 3, 4, 5, 6, 7, 8, 9]"
      ]
     },
     "execution_count": 10,
     "metadata": {},
     "output_type": "execute_result"
    }
   ],
   "source": [
    "## list comprehension to create a flat_list_lc\n",
    "flat_list_lc = [item for sub_list in big_list for item in sub_list]\n",
    "flat_list_lc"
   ]
  },
  {
   "cell_type": "markdown",
   "metadata": {
    "id": "D8UTPFJpiR50"
   },
   "source": [
    "## ```itertools```\n",
    "\n",
    "```itertools``` is a native Python module that allows efficient processing of iterables.\n",
    "\n",
    "<a href=\"https://docs.python.org/3/library/itertools.html\">More info</a> on all itertools methods."
   ]
  },
  {
   "cell_type": "code",
   "execution_count": 11,
   "metadata": {
    "id": "JyOEotUqiR50"
   },
   "outputs": [
    {
     "data": {
      "text/plain": [
       "[[1, 2, 3], [4, 5, 6], [7], [8, 9]]"
      ]
     },
     "execution_count": 11,
     "metadata": {},
     "output_type": "execute_result"
    }
   ],
   "source": [
    "## use itertools\n",
    "big_list"
   ]
  },
  {
   "cell_type": "code",
   "execution_count": 12,
   "metadata": {},
   "outputs": [
    {
     "name": "stdout",
     "output_type": "stream",
     "text": [
      "[1, 2, 3] [4, 5, 6] [7] [8, 9]\n"
     ]
    }
   ],
   "source": [
    "print(*big_list)"
   ]
  },
  {
   "cell_type": "code",
   "execution_count": 15,
   "metadata": {},
   "outputs": [],
   "source": [
    "import itertools"
   ]
  },
  {
   "cell_type": "code",
   "execution_count": 17,
   "metadata": {},
   "outputs": [],
   "source": [
    "big_list_redux = list(itertools.chain(*big_list))"
   ]
  },
  {
   "cell_type": "code",
   "execution_count": 18,
   "metadata": {},
   "outputs": [
    {
     "data": {
      "text/plain": [
       "[1, 2, 3, 4, 5, 6, 7, 8, 9]"
      ]
     },
     "execution_count": 18,
     "metadata": {},
     "output_type": "execute_result"
    }
   ],
   "source": [
    "big_list_redux"
   ]
  },
  {
   "cell_type": "code",
   "execution_count": null,
   "metadata": {},
   "outputs": [],
   "source": []
  },
  {
   "cell_type": "code",
   "execution_count": null,
   "metadata": {},
   "outputs": [],
   "source": []
  },
  {
   "cell_type": "code",
   "execution_count": null,
   "metadata": {},
   "outputs": [],
   "source": []
  },
  {
   "cell_type": "markdown",
   "metadata": {
    "id": "Zc-mF5N4iR51"
   },
   "source": [
    "### Flatten a list of tuples"
   ]
  },
  {
   "cell_type": "code",
   "execution_count": null,
   "metadata": {
    "id": "3zMwziWciR51"
   },
   "outputs": [],
   "source": [
    "## a list of tuples that are the a number and its square\n",
    "my_tupes = [(1,1), (2,4), (3,9), (4,16)]\n",
    "my_tupes"
   ]
  },
  {
   "cell_type": "code",
   "execution_count": null,
   "metadata": {
    "id": "BMj2uNKuiR51"
   },
   "outputs": [],
   "source": [
    "## flatten using a for loop and place in a list called flat_tupes\n",
    "\n",
    "        "
   ]
  },
  {
   "cell_type": "code",
   "execution_count": null,
   "metadata": {
    "id": "LIMEd3puiR51"
   },
   "outputs": [],
   "source": [
    "## flatten using list comprehension and place in list called flat_tupes_lc\n"
   ]
  },
  {
   "cell_type": "code",
   "execution_count": null,
   "metadata": {
    "id": "ntvBvWoqiR52"
   },
   "outputs": [],
   "source": [
    "## using itertools\n"
   ]
  },
  {
   "cell_type": "code",
   "execution_count": null,
   "metadata": {
    "id": "2dDUpsEkiR52"
   },
   "outputs": [],
   "source": []
  }
 ],
 "metadata": {
  "celltoolbar": "Slideshow",
  "colab": {
   "collapsed_sections": [
    "IwznjHICiX8a",
    "6MVc0RTYioN6",
    "D8UTPFJpiR50"
   ],
   "name": "week-7-flattening_lists_BLANK.ipynb",
   "provenance": [
    {
     "file_id": "1wzBP-ZqICa9FmuZnpBkZdoJkvXUckKVD",
     "timestamp": 1628019802440
    }
   ]
  },
  "kernelspec": {
   "display_name": "Python 3",
   "language": "python",
   "name": "python3"
  },
  "language_info": {
   "codemirror_mode": {
    "name": "ipython",
    "version": 3
   },
   "file_extension": ".py",
   "mimetype": "text/x-python",
   "name": "python",
   "nbconvert_exporter": "python",
   "pygments_lexer": "ipython3",
   "version": "3.8.8"
  }
 },
 "nbformat": 4,
 "nbformat_minor": 1
}
