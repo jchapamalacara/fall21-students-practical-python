{
 "cells": [
  {
   "cell_type": "markdown",
   "metadata": {
    "id": "1rg5ypHYQ2vB"
   },
   "source": [
    "# Multipage Tables Scrape Demo\n",
    "\n",
    "You're often going to encounter data and tables spread across hundreds if not thousands of pages. "
   ]
  },
  {
   "cell_type": "markdown",
   "metadata": {
    "id": "2FAa4EkaQ2vH"
   },
   "source": [
    "We're going to scrape as a demo a table that runs across several pages on this mock website.\n",
    "\n",
    "```https://sandeepmj.github.io/scrape-example-page/heaviest-animals-page1.html```"
   ]
  },
  {
   "cell_type": "markdown",
   "metadata": {
    "id": "DTY4tDkVQ2vI"
   },
   "source": [
    "To capture your target information into a single CSV file will require the use of many of the foundational skills we've covered, including:\n",
    "\n",
    "- ```delays```\n",
    "- ```conditional logic```\n",
    "- ```while loops```\n",
    "- ```BeautifulSoup```\n",
    "\n",
    "\n",
    "And we'll explore a few new functional Python methods today."
   ]
  },
  {
   "cell_type": "markdown",
   "metadata": {
    "id": "zzHxjNFUQ2vI"
   },
   "source": [
    "## Scraping Strategies\n",
    "\n",
    "- How do we approach this scrape?\n",
    "- What pattern do we see?\n",
    "- How do we capture a table on a single page?\n",
    "- How do we capture a sequence of tables?\n",
    "- How we navigate from page 1 to the subsequent pages?"
   ]
  },
  {
   "cell_type": "markdown",
   "metadata": {
    "id": "f9IgexKhQ2vJ"
   },
   "source": [
    "# Let's code!"
   ]
  },
  {
   "cell_type": "markdown",
   "metadata": {
    "id": "UZ6RZpiseWIm"
   },
   "source": [
    "## pip install icecream for debugging"
   ]
  },
  {
   "cell_type": "code",
   "execution_count": 1,
   "metadata": {
    "id": "BkvOnsTvN0Bu"
   },
   "outputs": [
    {
     "name": "stdout",
     "output_type": "stream",
     "text": [
      "Requirement already satisfied: icecream in /usr/local/anaconda3/lib/python3.8/site-packages (2.1.1)\n",
      "Requirement already satisfied: pygments>=2.2.0 in /usr/local/anaconda3/lib/python3.8/site-packages (from icecream) (2.8.1)\n",
      "Requirement already satisfied: asttokens>=2.0.1 in /usr/local/anaconda3/lib/python3.8/site-packages (from icecream) (2.0.5)\n",
      "Requirement already satisfied: colorama>=0.3.9 in /usr/local/anaconda3/lib/python3.8/site-packages (from icecream) (0.4.4)\n",
      "Requirement already satisfied: executing>=0.3.1 in /usr/local/anaconda3/lib/python3.8/site-packages (from icecream) (0.8.0)\n",
      "Requirement already satisfied: six in /usr/local/anaconda3/lib/python3.8/site-packages (from asttokens>=2.0.1->icecream) (1.15.0)\n",
      "Note: you may need to restart the kernel to use updated packages.\n"
     ]
    }
   ],
   "source": [
    "pip install icecream"
   ]
  },
  {
   "cell_type": "code",
   "execution_count": 2,
   "metadata": {
    "id": "tZ7ZNO8YQ2vJ"
   },
   "outputs": [],
   "source": [
    "# import libraries\n",
    "\n",
    "from bs4 import BeautifulSoup  ## web scraping\n",
    "import requests ## request html for a page(s)\n",
    "import pandas as pd ## pandas to work with data\n",
    "from icecream import ic"
   ]
  },
  {
   "cell_type": "markdown",
   "metadata": {
    "id": "Wl2yMzxEQ2vK"
   },
   "source": [
    "## Single Table Scrape"
   ]
  },
  {
   "cell_type": "code",
   "execution_count": 4,
   "metadata": {
    "id": "L3eCtCpJQ2vK"
   },
   "outputs": [
    {
     "name": "stderr",
     "output_type": "stream",
     "text": [
      "ic| response.status_code: 200\n"
     ]
    },
    {
     "data": {
      "text/plain": [
       "200"
      ]
     },
     "execution_count": 4,
     "metadata": {},
     "output_type": "execute_result"
    }
   ],
   "source": [
    "##scrape url website\n",
    "url = \"https://sandeepmj.github.io/scrape-example-page/heaviest-animals-page1.html\"\n",
    "response = requests.get(url)\n",
    "ic(response.status_code)"
   ]
  },
  {
   "cell_type": "code",
   "execution_count": 5,
   "metadata": {},
   "outputs": [
    {
     "data": {
      "text/plain": [
       "requests.models.Response"
      ]
     },
     "execution_count": 5,
     "metadata": {},
     "output_type": "execute_result"
    }
   ],
   "source": [
    "type(response)"
   ]
  },
  {
   "cell_type": "code",
   "execution_count": 8,
   "metadata": {
    "id": "OEbE38UkHkxb"
   },
   "outputs": [
    {
     "name": "stderr",
     "output_type": "stream",
     "text": [
      "ic| type(response.text): <class 'str'>\n"
     ]
    },
    {
     "data": {
      "text/plain": [
       "str"
      ]
     },
     "execution_count": 8,
     "metadata": {},
     "output_type": "execute_result"
    }
   ],
   "source": [
    "## page content type\n",
    "ic(type(response.text))"
   ]
  },
  {
   "cell_type": "markdown",
   "metadata": {
    "id": "Lq7Fxh77KLU8"
   },
   "source": [
    "## Since ```page.text``` returns a ```str```, we don't need to use ```BeautifulSoup```.\n"
   ]
  },
  {
   "cell_type": "code",
   "execution_count": 17,
   "metadata": {
    "id": "gh83GGbyQ2vL"
   },
   "outputs": [
    {
     "data": {
      "text/html": [
       "<div>\n",
       "<style scoped>\n",
       "    .dataframe tbody tr th:only-of-type {\n",
       "        vertical-align: middle;\n",
       "    }\n",
       "\n",
       "    .dataframe tbody tr th {\n",
       "        vertical-align: top;\n",
       "    }\n",
       "\n",
       "    .dataframe thead th {\n",
       "        text-align: right;\n",
       "    }\n",
       "</style>\n",
       "<table border=\"1\" class=\"dataframe\">\n",
       "  <thead>\n",
       "    <tr style=\"text-align: right;\">\n",
       "      <th></th>\n",
       "      <th>Animal</th>\n",
       "      <th>Weight(kg)</th>\n",
       "      <th>Type</th>\n",
       "    </tr>\n",
       "  </thead>\n",
       "  <tbody>\n",
       "    <tr>\n",
       "      <th>0</th>\n",
       "      <td>Blue whale</td>\n",
       "      <td>136000</td>\n",
       "      <td>Marine</td>\n",
       "    </tr>\n",
       "    <tr>\n",
       "      <th>1</th>\n",
       "      <td>Bowhead whale</td>\n",
       "      <td>100000</td>\n",
       "      <td>Marine</td>\n",
       "    </tr>\n",
       "    <tr>\n",
       "      <th>2</th>\n",
       "      <td>Fin whale</td>\n",
       "      <td>70000</td>\n",
       "      <td>Marine</td>\n",
       "    </tr>\n",
       "    <tr>\n",
       "      <th>3</th>\n",
       "      <td>Southern right whale</td>\n",
       "      <td>45000</td>\n",
       "      <td>Marine</td>\n",
       "    </tr>\n",
       "    <tr>\n",
       "      <th>4</th>\n",
       "      <td>Humpback whale</td>\n",
       "      <td>30000</td>\n",
       "      <td>Marine</td>\n",
       "    </tr>\n",
       "  </tbody>\n",
       "</table>\n",
       "</div>"
      ],
      "text/plain": [
       "                 Animal  Weight(kg)    Type\n",
       "0            Blue whale      136000  Marine\n",
       "1         Bowhead whale      100000  Marine\n",
       "2             Fin whale       70000  Marine\n",
       "3  Southern right whale       45000  Marine\n",
       "4        Humpback whale       30000  Marine"
      ]
     },
     "execution_count": 17,
     "metadata": {},
     "output_type": "execute_result"
    }
   ],
   "source": [
    "## use Pandas to read tables on page\n",
    "df = pd.read_html(response.text)\n",
    "df[0]"
   ]
  },
  {
   "cell_type": "code",
   "execution_count": 18,
   "metadata": {},
   "outputs": [
    {
     "data": {
      "text/plain": [
       "list"
      ]
     },
     "execution_count": 18,
     "metadata": {},
     "output_type": "execute_result"
    }
   ],
   "source": [
    "type(df)"
   ]
  },
  {
   "cell_type": "code",
   "execution_count": 19,
   "metadata": {},
   "outputs": [
    {
     "data": {
      "text/plain": [
       "pandas.core.frame.DataFrame"
      ]
     },
     "execution_count": 19,
     "metadata": {},
     "output_type": "execute_result"
    }
   ],
   "source": [
    "type(df[0])"
   ]
  },
  {
   "cell_type": "code",
   "execution_count": null,
   "metadata": {
    "id": "MvtGiiY7Q2vL"
   },
   "outputs": [],
   "source": [
    "## Do we want the first table?\n",
    "# type(df)\n"
   ]
  },
  {
   "cell_type": "code",
   "execution_count": 20,
   "metadata": {
    "id": "dXIYAPPqQ2vL"
   },
   "outputs": [
    {
     "data": {
      "text/html": [
       "<div>\n",
       "<style scoped>\n",
       "    .dataframe tbody tr th:only-of-type {\n",
       "        vertical-align: middle;\n",
       "    }\n",
       "\n",
       "    .dataframe tbody tr th {\n",
       "        vertical-align: top;\n",
       "    }\n",
       "\n",
       "    .dataframe thead th {\n",
       "        text-align: right;\n",
       "    }\n",
       "</style>\n",
       "<table border=\"1\" class=\"dataframe\">\n",
       "  <thead>\n",
       "    <tr style=\"text-align: right;\">\n",
       "      <th></th>\n",
       "      <th>Animal</th>\n",
       "      <th>Weight(kg)</th>\n",
       "      <th>Type</th>\n",
       "    </tr>\n",
       "  </thead>\n",
       "  <tbody>\n",
       "    <tr>\n",
       "      <th>0</th>\n",
       "      <td>Blue whale</td>\n",
       "      <td>136000</td>\n",
       "      <td>Marine</td>\n",
       "    </tr>\n",
       "    <tr>\n",
       "      <th>1</th>\n",
       "      <td>Bowhead whale</td>\n",
       "      <td>100000</td>\n",
       "      <td>Marine</td>\n",
       "    </tr>\n",
       "    <tr>\n",
       "      <th>2</th>\n",
       "      <td>Fin whale</td>\n",
       "      <td>70000</td>\n",
       "      <td>Marine</td>\n",
       "    </tr>\n",
       "    <tr>\n",
       "      <th>3</th>\n",
       "      <td>Southern right whale</td>\n",
       "      <td>45000</td>\n",
       "      <td>Marine</td>\n",
       "    </tr>\n",
       "    <tr>\n",
       "      <th>4</th>\n",
       "      <td>Humpback whale</td>\n",
       "      <td>30000</td>\n",
       "      <td>Marine</td>\n",
       "    </tr>\n",
       "  </tbody>\n",
       "</table>\n",
       "</div>"
      ],
      "text/plain": [
       "                 Animal  Weight(kg)    Type\n",
       "0            Blue whale      136000  Marine\n",
       "1         Bowhead whale      100000  Marine\n",
       "2             Fin whale       70000  Marine\n",
       "3  Southern right whale       45000  Marine\n",
       "4        Humpback whale       30000  Marine"
      ]
     },
     "execution_count": 20,
     "metadata": {},
     "output_type": "execute_result"
    }
   ],
   "source": [
    "## store it into a copy called animals_df\n",
    "df = df[0].copy()\n",
    "df"
   ]
  },
  {
   "cell_type": "markdown",
   "metadata": {
    "id": "gheKHsbiQ2vM"
   },
   "source": [
    "## But we want to scrape multiple pages\n",
    "2 ways to build a list of urls that we have to navigate to:\n",
    "\n",
    "1. Placeholders\n",
    "2. f-strings"
   ]
  },
  {
   "cell_type": "code",
   "execution_count": null,
   "metadata": {
    "id": "euCu3yvc6GsF"
   },
   "outputs": [],
   "source": [
    "## Never do this manually\n",
    "list = [\"https://sandeepmj.github.io/scrape-example-page/heaviest-animals-page1.html\",\n",
    "       \"https://sandeepmj.github.io/scrape-example-page/heaviest-animals-page2.html\",\n",
    "       \"https://sandeepmj.github.io/scrape-example-page/heaviest-animals-page3.html\",\n",
    "       \"https://sandeepmj.github.io/scrape-example-page/heaviest-animals-page4.html\"]"
   ]
  },
  {
   "cell_type": "markdown",
   "metadata": {
    "id": "LVz1WRdPQ2vM"
   },
   "source": [
    "### 1. Placeholders"
   ]
  },
  {
   "cell_type": "code",
   "execution_count": null,
   "metadata": {
    "id": "hfuCNbRFQ2vM"
   },
   "outputs": [],
   "source": [
    "## How is it different?\n",
    "url = \"https://sandeepmj.github.io/scrape-example-page/heaviest-animals-page{}.html\""
   ]
  },
  {
   "cell_type": "markdown",
   "metadata": {
    "id": "ROt6YrlcQ2vM"
   },
   "source": [
    "## Placeholders\n",
    "\n",
    "<img src=\"https://raw.githubusercontent.com/sandeepmj/scrape-example-page/master/images/placeholder1.png\" style=\"width:500px;\">"
   ]
  },
  {
   "cell_type": "markdown",
   "metadata": {
    "id": "qZXNStCMQ2vN"
   },
   "source": [
    "## Placeholders\n",
    "\n",
    "<img src=\"https://raw.githubusercontent.com/sandeepmj/scrape-example-page/master/images/placeholder2.png\" style=\"width:500px;\">"
   ]
  },
  {
   "cell_type": "markdown",
   "metadata": {
    "id": "7zi6fkagQ2vN"
   },
   "source": [
    "## Placeholders\n",
    "\n",
    "<img src=\"https://raw.githubusercontent.com/sandeepmj/scrape-example-page/master/images/placeholder3.png\" style=\"width:500px;\">"
   ]
  },
  {
   "cell_type": "markdown",
   "metadata": {
    "id": "Xs5WSXMGQ2vN"
   },
   "source": [
    "## Filling the Placeholder\n",
    "\n",
    "### We use ```.format()``` to fill in values into the ```{}```placeholder"
   ]
  },
  {
   "cell_type": "code",
   "execution_count": 21,
   "metadata": {
    "id": "Wk7B2WjiQ2vN"
   },
   "outputs": [
    {
     "name": "stderr",
     "output_type": "stream",
     "text": [
      "ic| base_url: 'https://www.example{}.html'\n"
     ]
    },
    {
     "data": {
      "text/plain": [
       "'https://www.example{}.html'"
      ]
     },
     "execution_count": 21,
     "metadata": {},
     "output_type": "execute_result"
    }
   ],
   "source": [
    "## here's our base url\n",
    "base_url = \"https://www.example{}.html\"\n",
    "ic(base_url)"
   ]
  },
  {
   "cell_type": "code",
   "execution_count": 23,
   "metadata": {
    "id": "PvEyUA0aQ2vN"
   },
   "outputs": [
    {
     "name": "stderr",
     "output_type": "stream",
     "text": [
      "ic| all_urls_fl: ['https://www.example1.html',\n",
      "                  'https://www.example2.html',\n",
      "                  'https://www.example3.html',\n",
      "                  'https://www.example4.html',\n",
      "                  'https://www.example5.html',\n",
      "                  'https://www.example6.html']\n"
     ]
    },
    {
     "data": {
      "text/plain": [
       "['https://www.example1.html',\n",
       " 'https://www.example2.html',\n",
       " 'https://www.example3.html',\n",
       " 'https://www.example4.html',\n",
       " 'https://www.example5.html',\n",
       " 'https://www.example6.html']"
      ]
     },
     "execution_count": 23,
     "metadata": {},
     "output_type": "execute_result"
    }
   ],
   "source": [
    "## Using a ```for loop```\n",
    "all_urls_fl = []\n",
    "\n",
    "for url_number in range(1,7):\n",
    "#     ic(base_url.format(url_number))\n",
    "    all_urls_fl.append(base_url.format(url_number))\n",
    "\n",
    "ic(all_urls_fl)"
   ]
  },
  {
   "cell_type": "code",
   "execution_count": 24,
   "metadata": {
    "id": "KrgrcSVYQ2vO"
   },
   "outputs": [
    {
     "data": {
      "text/plain": [
       "['https://www.example1.html',\n",
       " 'https://www.example2.html',\n",
       " 'https://www.example3.html',\n",
       " 'https://www.example4.html',\n",
       " 'https://www.example5.html',\n",
       " 'https://www.example6.html']"
      ]
     },
     "execution_count": 24,
     "metadata": {},
     "output_type": "execute_result"
    }
   ],
   "source": [
    "## using list comprehension\n",
    "all_urls_lc = [base_url.format(url_number) for url_number in range(1,7)]\n",
    "all_urls_lc"
   ]
  },
  {
   "cell_type": "markdown",
   "metadata": {
    "id": "jW-gnRagQ2vO"
   },
   "source": [
    "### 2. Using f-strings"
   ]
  },
  {
   "cell_type": "code",
   "execution_count": 26,
   "metadata": {
    "id": "e8hJx1nSQ2vO"
   },
   "outputs": [],
   "source": [
    "## base url of site to scrape\n",
    "base_url = \"https://www.example\""
   ]
  },
  {
   "cell_type": "code",
   "execution_count": 27,
   "metadata": {
    "id": "JGQMfxyrQ2vO"
   },
   "outputs": [
    {
     "name": "stderr",
     "output_type": "stream",
     "text": [
      "ic| fs_fl: ['https://www.example1.html',\n",
      "            'https://www.example2.html',\n",
      "            'https://www.example3.html',\n",
      "            'https://www.example4.html',\n",
      "            'https://www.example5.html',\n",
      "            'https://www.example6.html']\n"
     ]
    },
    {
     "data": {
      "text/plain": [
       "['https://www.example1.html',\n",
       " 'https://www.example2.html',\n",
       " 'https://www.example3.html',\n",
       " 'https://www.example4.html',\n",
       " 'https://www.example5.html',\n",
       " 'https://www.example6.html']"
      ]
     },
     "execution_count": 27,
     "metadata": {},
     "output_type": "execute_result"
    }
   ],
   "source": [
    "## Using a ```for loop```\n",
    "fs_fl = []\n",
    "for url_number in range(1,7):\n",
    "    fs_fl.append(f\"{base_url}{url_number}.html\")\n",
    "    \n",
    "ic(fs_fl)"
   ]
  },
  {
   "cell_type": "code",
   "execution_count": null,
   "metadata": {
    "id": "-WbAbHYLVcfX"
   },
   "outputs": [],
   "source": [
    "## using list comprehension\n"
   ]
  },
  {
   "cell_type": "code",
   "execution_count": null,
   "metadata": {
    "id": "mrJexdPh-JIq"
   },
   "outputs": [],
   "source": [
    "## f string base url\n"
   ]
  },
  {
   "cell_type": "code",
   "execution_count": 28,
   "metadata": {
    "id": "3lZUHi32-Sp7"
   },
   "outputs": [
    {
     "data": {
      "text/plain": [
       "['https://www.example1.html',\n",
       " 'https://www.example2.html',\n",
       " 'https://www.example3.html',\n",
       " 'https://www.example4.html',\n",
       " 'https://www.example5.html',\n",
       " 'https://www.example6.html']"
      ]
     },
     "execution_count": 28,
     "metadata": {},
     "output_type": "execute_result"
    }
   ],
   "source": [
    "## using list comprehension\n",
    "\n",
    "url_lc = [f\"{base_url}{url_number}.html\" for url_number in range(1,7)]\n",
    "url_lc"
   ]
  },
  {
   "cell_type": "markdown",
   "metadata": {
    "id": "z_oDySdwQ2vO"
   },
   "source": [
    "## Back to our scrape"
   ]
  },
  {
   "cell_type": "code",
   "execution_count": 29,
   "metadata": {
    "id": "PLsGGNjTQ2vP"
   },
   "outputs": [],
   "source": [
    "## let's remind ourselves of url variable's value\n",
    "\n",
    "url = \"https://sandeepmj.github.io/scrape-example-page/heaviest-animals-page{}.html\""
   ]
  },
  {
   "cell_type": "markdown",
   "metadata": {
    "id": "ElvFr3AQQ2vP"
   },
   "source": [
    "## We know we need a placeholder value of upto ```4```\n",
    "## Let's create a variable called  ```total_pages``` to match number of pages on site."
   ]
  },
  {
   "cell_type": "code",
   "execution_count": 31,
   "metadata": {
    "id": "N6Vz-D3LQ2vP"
   },
   "outputs": [],
   "source": [
    "## total pages to scrape\n",
    "total_pages = 3"
   ]
  },
  {
   "cell_type": "code",
   "execution_count": 32,
   "metadata": {
    "id": "CcGXP_Nn_juK"
   },
   "outputs": [
    {
     "name": "stderr",
     "output_type": "stream",
     "text": [
      "ic| link: 'https://sandeepmj.github.io/scrape-example-page/heaviest-animals-page1.html'\n",
      "ic| link: 'https://sandeepmj.github.io/scrape-example-page/heaviest-animals-page2.html'\n"
     ]
    }
   ],
   "source": [
    "## generates urls and loop through to get response from surver (are you getting 200?)\n",
    "\n",
    "for url_number in range(1, total_pages):\n",
    "    link = url.format(url_number)\n",
    "    ic(link)\n"
   ]
  },
  {
   "cell_type": "markdown",
   "metadata": {
    "id": "51i7AzHFQ2vP"
   },
   "source": [
    "# We have a problem...\n",
    "\n",
    "### We're hitting the server way too fast. We have to add a delay before we proceed."
   ]
  },
  {
   "cell_type": "code",
   "execution_count": 33,
   "metadata": {
    "id": "RyDiu5HVQ2vQ"
   },
   "outputs": [],
   "source": [
    "## Let's import the required libaries to create a delay\n",
    "from random import randrange ##  allows us to randomize numbers library\n",
    "import time ## time tracker"
   ]
  },
  {
   "cell_type": "code",
   "execution_count": 36,
   "metadata": {
    "id": "WuZ8Fw9sQ2vQ"
   },
   "outputs": [
    {
     "name": "stderr",
     "output_type": "stream",
     "text": [
      "ic| link: 'https://sandeepmj.github.io/scrape-example-page/heaviest-animals-page1.html'\n",
      "ic| response.status_code: 200\n"
     ]
    },
    {
     "name": "stdout",
     "output_type": "stream",
     "text": [
      "scraping page https://sandeepmj.github.io/scrape-example-page/heaviest-animals-page1.html\n",
      "Snoozing for 7 seconds before next scrape\n"
     ]
    },
    {
     "name": "stderr",
     "output_type": "stream",
     "text": [
      "ic| link: 'https://sandeepmj.github.io/scrape-example-page/heaviest-animals-page2.html'\n",
      "ic| response.status_code: 200\n"
     ]
    },
    {
     "name": "stdout",
     "output_type": "stream",
     "text": [
      "scraping page https://sandeepmj.github.io/scrape-example-page/heaviest-animals-page2.html\n",
      "Snoozing for 9 seconds before next scrape\n",
      "done scraping 2 pages\n"
     ]
    }
   ],
   "source": [
    "## Let's run our code again but with appropriate delay\n",
    "\n",
    "for url_number in range(1, total_pages):\n",
    "    link = url.format(url_number)\n",
    "    ic(link)\n",
    "    print(f\"scraping page {link}\")\n",
    "    response = requests.get(link)\n",
    "    mysnoozer = randrange(4,10)\n",
    "    print(f\"Snoozing for {mysnoozer} seconds before next scrape\")\n",
    "    ic(response.status_code)\n",
    "    time.sleep(mysnoozer)\n",
    "    \n",
    "print(f\"done scraping {total_pages - 1} pages\")\n",
    "\n"
   ]
  },
  {
   "cell_type": "code",
   "execution_count": null,
   "metadata": {
    "id": "gOnd8mhPDUR0"
   },
   "outputs": [],
   "source": [
    "## let's remind ourselves of url variable's value\n",
    "\n",
    "base_url = \"https://sandeepmj.github.io/scrape-example-page/heaviest-animals-page\""
   ]
  },
  {
   "cell_type": "code",
   "execution_count": null,
   "metadata": {
    "id": "rKhoz13wDEKu"
   },
   "outputs": [],
   "source": [
    "## ## for loop with timer"
   ]
  },
  {
   "cell_type": "markdown",
   "metadata": {
    "id": "0uPWDrxJQ2vQ"
   },
   "source": [
    "## Working Around Errors\n",
    "\n",
    "When you scrape hundreds of pages, there's chance that one of the URLs might be a dud.\n",
    "\n",
    "We can set up a error control to see what kind of responses we get:\n",
    "\n",
    "```<Response [200]>``` means website is accessible.\n",
    "\n",
    "```<Response [404]>``` means broken link or no page on content.\n",
    "\n",
    "In that case, your whole code might break and you'll have to figure out where it broke.\n",
    "\n",
    "We can make that easier with conditional logic."
   ]
  },
  {
   "cell_type": "code",
   "execution_count": 38,
   "metadata": {
    "id": "DFcihmt6Q2vQ"
   },
   "outputs": [
    {
     "name": "stderr",
     "output_type": "stream",
     "text": [
      "ic| link: 'https://sandeepmj.github.io/scrape-example-page/heaviest-animals-page1.html'\n",
      "ic| df: [                 Animal  Weight(kg)    Type\n",
      "        0            Blue whale      136000  Marine\n",
      "        1         Bowhead whale      100000  Marine\n",
      "        2             Fin whale       70000  Marine\n",
      "        3  Southern right whale       45000  Marine\n",
      "        4        Humpback whale       30000  Marine]\n"
     ]
    },
    {
     "name": "stdout",
     "output_type": "stream",
     "text": [
      "scraping page https://sandeepmj.github.io/scrape-example-page/heaviest-animals-page1.html\n",
      "Snoozing for 8 seconds before next scrape\n"
     ]
    },
    {
     "name": "stderr",
     "output_type": "stream",
     "text": [
      "ic| response.status_code: 200\n",
      "ic| link: 'https://sandeepmj.github.io/scrape-example-page/heaviest-animals-page2.html'\n",
      "ic| df: [                 Animal  Weight(kg)    Type\n",
      "        0            Gray whale       28500  Marine\n",
      "        1  Northern right whale       23000  Marine\n",
      "        2             Sei whale       20000  Marine\n",
      "        3         Bryde's whale       16000  Marine\n",
      "        4  Baird's beaked whale       11380  Marine]\n",
      "ic| response.status_code: 200\n"
     ]
    },
    {
     "name": "stdout",
     "output_type": "stream",
     "text": [
      "scraping page https://sandeepmj.github.io/scrape-example-page/heaviest-animals-page2.html\n",
      "Snoozing for 6 seconds before next scrape\n"
     ]
    },
    {
     "name": "stderr",
     "output_type": "stream",
     "text": [
      "ic| link: 'https://sandeepmj.github.io/scrape-example-page/heaviest-animals-page3.html'\n",
      "ic| df: [                      Animal  Weight(kg)         Type\n",
      "        0                Minke whale        7500       Marine\n",
      "        1  Northern bottlenose whale        6500       Marine\n",
      "        2     Gervais's beaked whale        5600       Marine\n",
      "        3           African elephant        4800  Terrestrial\n",
      "        4               Killer whale        3988       Marine]\n",
      "ic| response.status_code: 200\n"
     ]
    },
    {
     "name": "stdout",
     "output_type": "stream",
     "text": [
      "scraping page https://sandeepmj.github.io/scrape-example-page/heaviest-animals-page3.html\n",
      "Snoozing for 4 seconds before next scrape\n"
     ]
    },
    {
     "name": "stderr",
     "output_type": "stream",
     "text": [
      "ic| link: 'https://sandeepmj.github.io/scrape-example-page/heaviest-animals-page4.html'\n",
      "ic| df: [                     Animal  Weight(kg)         Type\n",
      "        0              Hippopotamus        3750  Terrestrial\n",
      "        1            Asian elephant        3178  Terrestrial\n",
      "        2     Cuvier's beaked whale        2701       Marine\n",
      "        3  Short-finned pilot whale        2200       Marine\n",
      "        4          White rhinoceros        2175  Terrestrial]\n",
      "ic| response.status_code: 200\n"
     ]
    },
    {
     "name": "stdout",
     "output_type": "stream",
     "text": [
      "scraping page https://sandeepmj.github.io/scrape-example-page/heaviest-animals-page4.html\n",
      "Snoozing for 9 seconds before next scrape\n"
     ]
    },
    {
     "name": "stderr",
     "output_type": "stream",
     "text": [
      "ic| link: 'https://sandeepmj.github.io/scrape-example-page/heaviest-animals-page5.html'\n",
      "ic| link: 'https://sandeepmj.github.io/scrape-example-page/heaviest-animals-page6.html'\n"
     ]
    },
    {
     "name": "stdout",
     "output_type": "stream",
     "text": [
      "scraping page https://sandeepmj.github.io/scrape-example-page/heaviest-animals-page5.html\n",
      "Oh no... https://sandeepmj.github.io/scrape-example-page/heaviest-animals-page5.html returned 404\n",
      "scraping page https://sandeepmj.github.io/scrape-example-page/heaviest-animals-page6.html\n"
     ]
    },
    {
     "name": "stderr",
     "output_type": "stream",
     "text": [
      "ic| link: 'https://sandeepmj.github.io/scrape-example-page/heaviest-animals-page7.html'\n"
     ]
    },
    {
     "name": "stdout",
     "output_type": "stream",
     "text": [
      "Oh no... https://sandeepmj.github.io/scrape-example-page/heaviest-animals-page6.html returned 404\n",
      "scraping page https://sandeepmj.github.io/scrape-example-page/heaviest-animals-page7.html\n",
      "Oh no... https://sandeepmj.github.io/scrape-example-page/heaviest-animals-page7.html returned 404\n",
      "done scraping 7 pages\n"
     ]
    }
   ],
   "source": [
    "## CHECK FOR ERROR\n",
    "total_pages = 8\n",
    "busted_links = []\n",
    "df_all = []\n",
    "\n",
    "for url_number in range(1, total_pages):\n",
    "    link = url.format(url_number)\n",
    "    ic(link)\n",
    "    print(f\"scraping page {link}\")\n",
    "    response = requests.get(link)\n",
    "    if response.status_code == 200:\n",
    "        df = pd.read_html(response.text)\n",
    "        ic(df)\n",
    "        mysnoozer = randrange(4,10)\n",
    "        print(f\"Snoozing for {mysnoozer} seconds before next scrape\")\n",
    "        ic(response.status_code)\n",
    "        time.sleep(mysnoozer)\n",
    "    \n",
    "    else:\n",
    "        print(f\"Oh no... {link} returned {response.status_code}\")\n",
    "        busted_links.append(link)\n",
    "    \n",
    "print(f\"done scraping {total_pages - 1} pages\")"
   ]
  },
  {
   "cell_type": "code",
   "execution_count": 39,
   "metadata": {
    "id": "IOlkUp23h2wF"
   },
   "outputs": [
    {
     "data": {
      "text/plain": [
       "['https://sandeepmj.github.io/scrape-example-page/heaviest-animals-page5.html',\n",
       " 'https://sandeepmj.github.io/scrape-example-page/heaviest-animals-page6.html',\n",
       " 'https://sandeepmj.github.io/scrape-example-page/heaviest-animals-page7.html']"
      ]
     },
     "execution_count": 39,
     "metadata": {},
     "output_type": "execute_result"
    }
   ],
   "source": [
    "## show broken links\n",
    "busted_links"
   ]
  },
  {
   "cell_type": "markdown",
   "metadata": {
    "id": "3gyRplcgQ2vQ"
   },
   "source": [
    "# All in One Step\n",
    "\n",
    "Because we are using a  ```for loop``` that cycles through each link to do multiple steps on our target data, we need to have it done as one step.\n",
    "\n"
   ]
  },
  {
   "cell_type": "code",
   "execution_count": 40,
   "metadata": {
    "id": "HJoLS9AgQ2vR"
   },
   "outputs": [
    {
     "name": "stdout",
     "output_type": "stream",
     "text": [
      "scraping page https://sandeepmj.github.io/scrape-example-page/heaviest-animals-page1.html\n",
      "Snoozing for 5 seconds before next scrape\n",
      "scraping page https://sandeepmj.github.io/scrape-example-page/heaviest-animals-page2.html\n",
      "Snoozing for 5 seconds before next scrape\n",
      "scraping page https://sandeepmj.github.io/scrape-example-page/heaviest-animals-page3.html\n",
      "Snoozing for 6 seconds before next scrape\n",
      "scraping page https://sandeepmj.github.io/scrape-example-page/heaviest-animals-page4.html\n",
      "Snoozing for 8 seconds before next scrape\n",
      "done scraping 4 pages\n"
     ]
    }
   ],
   "source": [
    "## Combined url timed nav with table scrape\n",
    "\n",
    "total_pages = 5\n",
    "busted_links = []\n",
    "df_all = []\n",
    "\n",
    "for url_number in range(1, total_pages):\n",
    "    link = url.format(url_number)\n",
    "#     ic(link)\n",
    "    print(f\"scraping page {link}\")\n",
    "    response = requests.get(link)\n",
    "    if response.status_code == 200:\n",
    "        df_list = pd.read_html(response.text)\n",
    "        df_all.append(df_list[0])\n",
    "#         ic(df)\n",
    "        mysnoozer = randrange(4,10)\n",
    "        print(f\"Snoozing for {mysnoozer} seconds before next scrape\")\n",
    "#         ic(response.status_code)\n",
    "        time.sleep(mysnoozer)\n",
    "    \n",
    "    else:\n",
    "        print(f\"Oh no... {link} returned {response.status_code}\")\n",
    "        busted_links.append(link)\n",
    "    \n",
    "print(f\"done scraping {total_pages - 1} pages\")"
   ]
  },
  {
   "cell_type": "code",
   "execution_count": 41,
   "metadata": {
    "id": "2-lESTDPMP8s"
   },
   "outputs": [
    {
     "data": {
      "text/plain": [
       "[                 Animal  Weight(kg)    Type\n",
       " 0            Blue whale      136000  Marine\n",
       " 1         Bowhead whale      100000  Marine\n",
       " 2             Fin whale       70000  Marine\n",
       " 3  Southern right whale       45000  Marine\n",
       " 4        Humpback whale       30000  Marine,\n",
       "                  Animal  Weight(kg)    Type\n",
       " 0            Gray whale       28500  Marine\n",
       " 1  Northern right whale       23000  Marine\n",
       " 2             Sei whale       20000  Marine\n",
       " 3         Bryde's whale       16000  Marine\n",
       " 4  Baird's beaked whale       11380  Marine,\n",
       "                       Animal  Weight(kg)         Type\n",
       " 0                Minke whale        7500       Marine\n",
       " 1  Northern bottlenose whale        6500       Marine\n",
       " 2     Gervais's beaked whale        5600       Marine\n",
       " 3           African elephant        4800  Terrestrial\n",
       " 4               Killer whale        3988       Marine,\n",
       "                      Animal  Weight(kg)         Type\n",
       " 0              Hippopotamus        3750  Terrestrial\n",
       " 1            Asian elephant        3178  Terrestrial\n",
       " 2     Cuvier's beaked whale        2701       Marine\n",
       " 3  Short-finned pilot whale        2200       Marine\n",
       " 4          White rhinoceros        2175  Terrestrial]"
      ]
     },
     "execution_count": 41,
     "metadata": {},
     "output_type": "execute_result"
    }
   ],
   "source": [
    "df_all"
   ]
  },
  {
   "cell_type": "code",
   "execution_count": 45,
   "metadata": {},
   "outputs": [
    {
     "data": {
      "text/html": [
       "<div>\n",
       "<style scoped>\n",
       "    .dataframe tbody tr th:only-of-type {\n",
       "        vertical-align: middle;\n",
       "    }\n",
       "\n",
       "    .dataframe tbody tr th {\n",
       "        vertical-align: top;\n",
       "    }\n",
       "\n",
       "    .dataframe thead th {\n",
       "        text-align: right;\n",
       "    }\n",
       "</style>\n",
       "<table border=\"1\" class=\"dataframe\">\n",
       "  <thead>\n",
       "    <tr style=\"text-align: right;\">\n",
       "      <th></th>\n",
       "      <th>Animal</th>\n",
       "      <th>Weight(kg)</th>\n",
       "      <th>Type</th>\n",
       "    </tr>\n",
       "  </thead>\n",
       "  <tbody>\n",
       "    <tr>\n",
       "      <th>0</th>\n",
       "      <td>Hippopotamus</td>\n",
       "      <td>3750</td>\n",
       "      <td>Terrestrial</td>\n",
       "    </tr>\n",
       "    <tr>\n",
       "      <th>1</th>\n",
       "      <td>Asian elephant</td>\n",
       "      <td>3178</td>\n",
       "      <td>Terrestrial</td>\n",
       "    </tr>\n",
       "    <tr>\n",
       "      <th>2</th>\n",
       "      <td>Cuvier's beaked whale</td>\n",
       "      <td>2701</td>\n",
       "      <td>Marine</td>\n",
       "    </tr>\n",
       "    <tr>\n",
       "      <th>3</th>\n",
       "      <td>Short-finned pilot whale</td>\n",
       "      <td>2200</td>\n",
       "      <td>Marine</td>\n",
       "    </tr>\n",
       "    <tr>\n",
       "      <th>4</th>\n",
       "      <td>White rhinoceros</td>\n",
       "      <td>2175</td>\n",
       "      <td>Terrestrial</td>\n",
       "    </tr>\n",
       "  </tbody>\n",
       "</table>\n",
       "</div>"
      ],
      "text/plain": [
       "                     Animal  Weight(kg)         Type\n",
       "0              Hippopotamus        3750  Terrestrial\n",
       "1            Asian elephant        3178  Terrestrial\n",
       "2     Cuvier's beaked whale        2701       Marine\n",
       "3  Short-finned pilot whale        2200       Marine\n",
       "4          White rhinoceros        2175  Terrestrial"
      ]
     },
     "execution_count": 45,
     "metadata": {},
     "output_type": "execute_result"
    }
   ],
   "source": [
    "df_all[3]"
   ]
  },
  {
   "cell_type": "code",
   "execution_count": 51,
   "metadata": {
    "id": "Emr3u2OvQ2vR"
   },
   "outputs": [],
   "source": [
    "## FUNCTION to download individual dataframes in a list as a single csv\n",
    "def combine_tables(list_name,filename):\n",
    "  '''\n",
    "  Takes dataframes in a list and combines into a single CSV.\n",
    "  Tables must have identical column headers and order\n",
    "  Arguments: name of list and the CSV name you want (in quotes as a string)\n",
    "  '''\n",
    "  df = pd.concat(list_name) ## join/concat all the dataframes into one dataframe\n",
    "  df.to_csv(filename, encoding='utf-8', index=False) ## convert that single dataframe into a csv\n",
    "  print(f\"{filename} is in your current folder!\")\n",
    "  return df\n",
    "    "
   ]
  },
  {
   "cell_type": "code",
   "execution_count": 52,
   "metadata": {
    "id": "DPY3Cbj-Q2vR"
   },
   "outputs": [
    {
     "name": "stdout",
     "output_type": "stream",
     "text": [
      "animals1.csv is in your current folder!\n"
     ]
    }
   ],
   "source": [
    "## CALL THE FUNCTION\n",
    "df = combine_tables(df_all, \"animals1.csv\")"
   ]
  },
  {
   "cell_type": "code",
   "execution_count": 54,
   "metadata": {
    "id": "57-o0t3xQ2vS"
   },
   "outputs": [
    {
     "data": {
      "text/html": [
       "<div>\n",
       "<style scoped>\n",
       "    .dataframe tbody tr th:only-of-type {\n",
       "        vertical-align: middle;\n",
       "    }\n",
       "\n",
       "    .dataframe tbody tr th {\n",
       "        vertical-align: top;\n",
       "    }\n",
       "\n",
       "    .dataframe thead th {\n",
       "        text-align: right;\n",
       "    }\n",
       "</style>\n",
       "<table border=\"1\" class=\"dataframe\">\n",
       "  <thead>\n",
       "    <tr style=\"text-align: right;\">\n",
       "      <th></th>\n",
       "      <th>Animal</th>\n",
       "      <th>Weight(kg)</th>\n",
       "      <th>Type</th>\n",
       "    </tr>\n",
       "  </thead>\n",
       "  <tbody>\n",
       "    <tr>\n",
       "      <th>0</th>\n",
       "      <td>Blue whale</td>\n",
       "      <td>136000</td>\n",
       "      <td>Marine</td>\n",
       "    </tr>\n",
       "    <tr>\n",
       "      <th>1</th>\n",
       "      <td>Bowhead whale</td>\n",
       "      <td>100000</td>\n",
       "      <td>Marine</td>\n",
       "    </tr>\n",
       "    <tr>\n",
       "      <th>2</th>\n",
       "      <td>Fin whale</td>\n",
       "      <td>70000</td>\n",
       "      <td>Marine</td>\n",
       "    </tr>\n",
       "    <tr>\n",
       "      <th>3</th>\n",
       "      <td>Southern right whale</td>\n",
       "      <td>45000</td>\n",
       "      <td>Marine</td>\n",
       "    </tr>\n",
       "    <tr>\n",
       "      <th>4</th>\n",
       "      <td>Humpback whale</td>\n",
       "      <td>30000</td>\n",
       "      <td>Marine</td>\n",
       "    </tr>\n",
       "    <tr>\n",
       "      <th>0</th>\n",
       "      <td>Gray whale</td>\n",
       "      <td>28500</td>\n",
       "      <td>Marine</td>\n",
       "    </tr>\n",
       "    <tr>\n",
       "      <th>1</th>\n",
       "      <td>Northern right whale</td>\n",
       "      <td>23000</td>\n",
       "      <td>Marine</td>\n",
       "    </tr>\n",
       "    <tr>\n",
       "      <th>2</th>\n",
       "      <td>Sei whale</td>\n",
       "      <td>20000</td>\n",
       "      <td>Marine</td>\n",
       "    </tr>\n",
       "    <tr>\n",
       "      <th>3</th>\n",
       "      <td>Bryde's whale</td>\n",
       "      <td>16000</td>\n",
       "      <td>Marine</td>\n",
       "    </tr>\n",
       "    <tr>\n",
       "      <th>4</th>\n",
       "      <td>Baird's beaked whale</td>\n",
       "      <td>11380</td>\n",
       "      <td>Marine</td>\n",
       "    </tr>\n",
       "    <tr>\n",
       "      <th>0</th>\n",
       "      <td>Minke whale</td>\n",
       "      <td>7500</td>\n",
       "      <td>Marine</td>\n",
       "    </tr>\n",
       "    <tr>\n",
       "      <th>1</th>\n",
       "      <td>Northern bottlenose whale</td>\n",
       "      <td>6500</td>\n",
       "      <td>Marine</td>\n",
       "    </tr>\n",
       "    <tr>\n",
       "      <th>2</th>\n",
       "      <td>Gervais's beaked whale</td>\n",
       "      <td>5600</td>\n",
       "      <td>Marine</td>\n",
       "    </tr>\n",
       "    <tr>\n",
       "      <th>3</th>\n",
       "      <td>African elephant</td>\n",
       "      <td>4800</td>\n",
       "      <td>Terrestrial</td>\n",
       "    </tr>\n",
       "    <tr>\n",
       "      <th>4</th>\n",
       "      <td>Killer whale</td>\n",
       "      <td>3988</td>\n",
       "      <td>Marine</td>\n",
       "    </tr>\n",
       "    <tr>\n",
       "      <th>0</th>\n",
       "      <td>Hippopotamus</td>\n",
       "      <td>3750</td>\n",
       "      <td>Terrestrial</td>\n",
       "    </tr>\n",
       "    <tr>\n",
       "      <th>1</th>\n",
       "      <td>Asian elephant</td>\n",
       "      <td>3178</td>\n",
       "      <td>Terrestrial</td>\n",
       "    </tr>\n",
       "    <tr>\n",
       "      <th>2</th>\n",
       "      <td>Cuvier's beaked whale</td>\n",
       "      <td>2701</td>\n",
       "      <td>Marine</td>\n",
       "    </tr>\n",
       "    <tr>\n",
       "      <th>3</th>\n",
       "      <td>Short-finned pilot whale</td>\n",
       "      <td>2200</td>\n",
       "      <td>Marine</td>\n",
       "    </tr>\n",
       "    <tr>\n",
       "      <th>4</th>\n",
       "      <td>White rhinoceros</td>\n",
       "      <td>2175</td>\n",
       "      <td>Terrestrial</td>\n",
       "    </tr>\n",
       "  </tbody>\n",
       "</table>\n",
       "</div>"
      ],
      "text/plain": [
       "                      Animal  Weight(kg)         Type\n",
       "0                 Blue whale      136000       Marine\n",
       "1              Bowhead whale      100000       Marine\n",
       "2                  Fin whale       70000       Marine\n",
       "3       Southern right whale       45000       Marine\n",
       "4             Humpback whale       30000       Marine\n",
       "0                 Gray whale       28500       Marine\n",
       "1       Northern right whale       23000       Marine\n",
       "2                  Sei whale       20000       Marine\n",
       "3              Bryde's whale       16000       Marine\n",
       "4       Baird's beaked whale       11380       Marine\n",
       "0                Minke whale        7500       Marine\n",
       "1  Northern bottlenose whale        6500       Marine\n",
       "2     Gervais's beaked whale        5600       Marine\n",
       "3           African elephant        4800  Terrestrial\n",
       "4               Killer whale        3988       Marine\n",
       "0               Hippopotamus        3750  Terrestrial\n",
       "1             Asian elephant        3178  Terrestrial\n",
       "2      Cuvier's beaked whale        2701       Marine\n",
       "3   Short-finned pilot whale        2200       Marine\n",
       "4           White rhinoceros        2175  Terrestrial"
      ]
     },
     "execution_count": 54,
     "metadata": {},
     "output_type": "execute_result"
    }
   ],
   "source": [
    "df"
   ]
  },
  {
   "cell_type": "code",
   "execution_count": null,
   "metadata": {},
   "outputs": [],
   "source": []
  }
 ],
 "metadata": {
  "celltoolbar": "Slideshow",
  "colab": {
   "collapsed_sections": [],
   "name": "week-6-multi-page-table scrape_BLANK.ipynb",
   "provenance": []
  },
  "kernelspec": {
   "display_name": "Python 3",
   "language": "python",
   "name": "python3"
  },
  "language_info": {
   "codemirror_mode": {
    "name": "ipython",
    "version": 3
   },
   "file_extension": ".py",
   "mimetype": "text/x-python",
   "name": "python",
   "nbconvert_exporter": "python",
   "pygments_lexer": "ipython3",
   "version": "3.8.8"
  }
 },
 "nbformat": 4,
 "nbformat_minor": 1
}
