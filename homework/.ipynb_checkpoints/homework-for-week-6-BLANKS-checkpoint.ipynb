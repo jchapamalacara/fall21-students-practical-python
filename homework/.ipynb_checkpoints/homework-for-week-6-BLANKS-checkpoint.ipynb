{
 "cells": [
  {
   "cell_type": "markdown",
   "metadata": {
    "id": "shmtvBrrm33I"
   },
   "source": [
    "###### Homework for week 6\n",
    "\n",
    "1. Scrape table from a single page (NFL)\n",
    "2. Scrape non-tabular data from a single page\n",
    "3. CHALLENGE: Convert export to csv to a function"
   ]
  },
  {
   "cell_type": "markdown",
   "metadata": {
    "id": "tA6F6LsSm33N"
   },
   "source": [
    "## 1. Scrape table from single page (NFL)\n",
    "\n",
    "### We want to scrape a table that contains NFL player salaries by position for 2019. \n",
    "\n",
    "The webpage is ```https://sandeepmj.github.io/scrape-example-page/```"
   ]
  },
  {
   "cell_type": "code",
   "execution_count": null,
   "metadata": {
    "id": "vP_YXhtmm33O"
   },
   "outputs": [],
   "source": []
  },
  {
   "cell_type": "markdown",
   "metadata": {
    "id": "st6yQQq2m33O"
   },
   "source": [
    "## 2.  Scrape a single page of non-tabular data"
   ]
  },
  {
   "cell_type": "markdown",
   "metadata": {
    "id": "t2UF7PwRm33P"
   },
   "source": [
    "\n",
    "\n",
    "Scrape the following info from <a href=\"https://www.addictioncenter.com/treatment/top-10-drug-treatment-centers/\">this page</a>:\n",
    "    \n",
    "- Name of rehab center\n",
    "- Location\n",
    "- Phone number\n",
    "- URL\n",
    "\n",
    "Export the data into a csv file called ```rehabs.csv```.\n"
   ]
  },
  {
   "cell_type": "code",
   "execution_count": null,
   "metadata": {
    "id": "rCb47av2m33P"
   },
   "outputs": [],
   "source": []
  },
  {
   "cell_type": "markdown",
   "metadata": {
    "id": "dRRQOxJsm33P"
   },
   "source": [
    "# Challenge\n",
    "\n",
    "## 3. Convert the \"write to csv file\" code into a function\n",
    "\n",
    "Notice how you keep having to write the same code everytime you export a dataframe as csv.\n",
    "Convert it into a function so you just have to call the function with arguments like filename and which dataframe to convert."
   ]
  },
  {
   "cell_type": "code",
   "execution_count": null,
   "metadata": {
    "id": "XzUVfYsBm33Q"
   },
   "outputs": [],
   "source": []
  }
 ],
 "metadata": {
  "colab": {
   "name": "homework-for-week-6B_BLANKS.ipynb",
   "provenance": []
  },
  "kernelspec": {
   "display_name": "Python 3",
   "language": "python",
   "name": "python3"
  },
  "language_info": {
   "codemirror_mode": {
    "name": "ipython",
    "version": 3
   },
   "file_extension": ".py",
   "mimetype": "text/x-python",
   "name": "python",
   "nbconvert_exporter": "python",
   "pygments_lexer": "ipython3",
   "version": "3.8.8"
  }
 },
 "nbformat": 4,
 "nbformat_minor": 1
}
