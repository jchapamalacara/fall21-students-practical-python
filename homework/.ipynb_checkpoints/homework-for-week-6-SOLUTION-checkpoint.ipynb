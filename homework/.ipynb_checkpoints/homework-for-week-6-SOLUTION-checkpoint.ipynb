{
 "cells": [
  {
   "cell_type": "markdown",
   "metadata": {
    "id": "qCEdrtv1Ex4z"
   },
   "source": [
    "###### Homework for week 6\n",
    "\n",
    "1. Scrape table from a single page (NFL)\n",
    "2. Scrape non-tabular data from a single page\n",
    "3. CHALLENGE: Convert export to csv to a function"
   ]
  },
  {
   "cell_type": "markdown",
   "metadata": {
    "id": "fnrAnltmEx44"
   },
   "source": [
    "## 1. Scrape table from single page (NFL)\n",
    "\n",
    "### We want to scrape a table that contains NFL player salaries by position for 2019. \n",
    "\n",
    "The webpage is ```https://sandeepmj.github.io/scrape-example-page/```"
   ]
  },
  {
   "cell_type": "code",
   "execution_count": 1,
   "metadata": {},
   "outputs": [
    {
     "name": "stdout",
     "output_type": "stream",
     "text": [
      "Requirement already satisfied: icecream in /usr/local/anaconda3/lib/python3.8/site-packages (2.1.1)\n",
      "Requirement already satisfied: asttokens>=2.0.1 in /usr/local/anaconda3/lib/python3.8/site-packages (from icecream) (2.0.5)\n",
      "Requirement already satisfied: colorama>=0.3.9 in /usr/local/anaconda3/lib/python3.8/site-packages (from icecream) (0.4.4)\n",
      "Requirement already satisfied: executing>=0.3.1 in /usr/local/anaconda3/lib/python3.8/site-packages (from icecream) (0.8.0)\n",
      "Requirement already satisfied: pygments>=2.2.0 in /usr/local/anaconda3/lib/python3.8/site-packages (from icecream) (2.8.1)\n",
      "Requirement already satisfied: six in /usr/local/anaconda3/lib/python3.8/site-packages (from asttokens>=2.0.1->icecream) (1.15.0)\n",
      "Note: you may need to restart the kernel to use updated packages.\n"
     ]
    }
   ],
   "source": [
    "pip install icecream"
   ]
  },
  {
   "cell_type": "code",
   "execution_count": 2,
   "metadata": {
    "id": "r9WNOYESEx45"
   },
   "outputs": [],
   "source": [
    "## import libraries\n",
    "import pandas as pd ## to scrape tables\n",
    "import requests ## to get data from websites\n",
    "from bs4 import BeautifulSoup ## to process data scraped from websites\n",
    "from icecream import ic"
   ]
  },
  {
   "cell_type": "code",
   "execution_count": 3,
   "metadata": {
    "colab": {
     "base_uri": "https://localhost:8080/"
    },
    "id": "ikGG1nTgEx45",
    "outputId": "548dc555-4ad4-4fb0-8bb9-6220b67f8eed"
   },
   "outputs": [
    {
     "name": "stderr",
     "output_type": "stream",
     "text": [
      "ic| page.status_code: 200\n"
     ]
    },
    {
     "data": {
      "text/plain": [
       "200"
      ]
     },
     "execution_count": 3,
     "metadata": {},
     "output_type": "execute_result"
    }
   ],
   "source": [
    "##scrape url website\n",
    "url = \"https://sandeepmj.github.io/scrape-example-page\"\n",
    "page = requests.get(url)\n",
    "ic(page.status_code)  ## should print 200. checks http response code status"
   ]
  },
  {
   "cell_type": "code",
   "execution_count": 6,
   "metadata": {
    "colab": {
     "base_uri": "https://localhost:8080/"
    },
    "id": "5p27BqtHEx47",
    "outputId": "bd0a17ff-b322-428d-d52e-56a3697c5329"
   },
   "outputs": [
    {
     "data": {
      "text/plain": [
       "[         Drink  Serving Size (oz)  Caffeine (mg)\n",
       " 0    Coke Zero                 16             45\n",
       " 1   Chai Latte                 16             95\n",
       " 2  Caffe Latte                 16            150,\n",
       "                 Player position Played Team  salary 2019\n",
       " 0         Kirk Cousins              QB  MIN  $27,500,000\n",
       " 1       Jameis Winston              QB  TAM  $20,922,000\n",
       " 2       Marcus Mariota              QB  TEN  $20,922,000\n",
       " 3           Derek Carr              QB  OAK  $19,900,000\n",
       " 4           Joe Flacco              QB  DEN  $18,500,000\n",
       " ...                ...             ...  ...          ...\n",
       " 1909  D'Ernest Johnson              RB  CLE     $495,000\n",
       " 1910  Garrett Bradbury              OL  MIN     $495,000\n",
       " 1911      Alex Redmond               G  CIN     $493,236\n",
       " 1912       Holton Hill              CB  MIN     $435,882\n",
       " 1913    Tyrone Swoopes              TE  SEA     $378,034\n",
       " \n",
       " [1914 rows x 4 columns]]"
      ]
     },
     "execution_count": 6,
     "metadata": {},
     "output_type": "execute_result"
    }
   ],
   "source": [
    "## use Pandas to read tables on page\n",
    "tables = pd.read_html(page.text)\n",
    "tables"
   ]
  },
  {
   "cell_type": "code",
   "execution_count": 7,
   "metadata": {
    "colab": {
     "base_uri": "https://localhost:8080/"
    },
    "id": "4wxC1O9_Ex47",
    "outputId": "caabf310-175b-424c-b890-6707920cca3d"
   },
   "outputs": [
    {
     "data": {
      "text/plain": [
       "list"
      ]
     },
     "execution_count": 7,
     "metadata": {},
     "output_type": "execute_result"
    }
   ],
   "source": [
    "## show type of object\n",
    "type(tables)"
   ]
  },
  {
   "cell_type": "code",
   "execution_count": 8,
   "metadata": {
    "colab": {
     "base_uri": "https://localhost:8080/",
     "height": 417
    },
    "id": "MXWcqDhWEx47",
    "outputId": "0a2d971c-9836-4052-975d-897d96e2ebeb"
   },
   "outputs": [
    {
     "data": {
      "text/html": [
       "<div>\n",
       "<style scoped>\n",
       "    .dataframe tbody tr th:only-of-type {\n",
       "        vertical-align: middle;\n",
       "    }\n",
       "\n",
       "    .dataframe tbody tr th {\n",
       "        vertical-align: top;\n",
       "    }\n",
       "\n",
       "    .dataframe thead th {\n",
       "        text-align: right;\n",
       "    }\n",
       "</style>\n",
       "<table border=\"1\" class=\"dataframe\">\n",
       "  <thead>\n",
       "    <tr style=\"text-align: right;\">\n",
       "      <th></th>\n",
       "      <th>Player</th>\n",
       "      <th>position Played</th>\n",
       "      <th>Team</th>\n",
       "      <th>salary 2019</th>\n",
       "    </tr>\n",
       "  </thead>\n",
       "  <tbody>\n",
       "    <tr>\n",
       "      <th>0</th>\n",
       "      <td>Kirk Cousins</td>\n",
       "      <td>QB</td>\n",
       "      <td>MIN</td>\n",
       "      <td>$27,500,000</td>\n",
       "    </tr>\n",
       "    <tr>\n",
       "      <th>1</th>\n",
       "      <td>Jameis Winston</td>\n",
       "      <td>QB</td>\n",
       "      <td>TAM</td>\n",
       "      <td>$20,922,000</td>\n",
       "    </tr>\n",
       "    <tr>\n",
       "      <th>2</th>\n",
       "      <td>Marcus Mariota</td>\n",
       "      <td>QB</td>\n",
       "      <td>TEN</td>\n",
       "      <td>$20,922,000</td>\n",
       "    </tr>\n",
       "    <tr>\n",
       "      <th>3</th>\n",
       "      <td>Derek Carr</td>\n",
       "      <td>QB</td>\n",
       "      <td>OAK</td>\n",
       "      <td>$19,900,000</td>\n",
       "    </tr>\n",
       "    <tr>\n",
       "      <th>4</th>\n",
       "      <td>Joe Flacco</td>\n",
       "      <td>QB</td>\n",
       "      <td>DEN</td>\n",
       "      <td>$18,500,000</td>\n",
       "    </tr>\n",
       "    <tr>\n",
       "      <th>...</th>\n",
       "      <td>...</td>\n",
       "      <td>...</td>\n",
       "      <td>...</td>\n",
       "      <td>...</td>\n",
       "    </tr>\n",
       "    <tr>\n",
       "      <th>1909</th>\n",
       "      <td>D'Ernest Johnson</td>\n",
       "      <td>RB</td>\n",
       "      <td>CLE</td>\n",
       "      <td>$495,000</td>\n",
       "    </tr>\n",
       "    <tr>\n",
       "      <th>1910</th>\n",
       "      <td>Garrett Bradbury</td>\n",
       "      <td>OL</td>\n",
       "      <td>MIN</td>\n",
       "      <td>$495,000</td>\n",
       "    </tr>\n",
       "    <tr>\n",
       "      <th>1911</th>\n",
       "      <td>Alex Redmond</td>\n",
       "      <td>G</td>\n",
       "      <td>CIN</td>\n",
       "      <td>$493,236</td>\n",
       "    </tr>\n",
       "    <tr>\n",
       "      <th>1912</th>\n",
       "      <td>Holton Hill</td>\n",
       "      <td>CB</td>\n",
       "      <td>MIN</td>\n",
       "      <td>$435,882</td>\n",
       "    </tr>\n",
       "    <tr>\n",
       "      <th>1913</th>\n",
       "      <td>Tyrone Swoopes</td>\n",
       "      <td>TE</td>\n",
       "      <td>SEA</td>\n",
       "      <td>$378,034</td>\n",
       "    </tr>\n",
       "  </tbody>\n",
       "</table>\n",
       "<p>1914 rows × 4 columns</p>\n",
       "</div>"
      ],
      "text/plain": [
       "                Player position Played Team  salary 2019\n",
       "0         Kirk Cousins              QB  MIN  $27,500,000\n",
       "1       Jameis Winston              QB  TAM  $20,922,000\n",
       "2       Marcus Mariota              QB  TEN  $20,922,000\n",
       "3           Derek Carr              QB  OAK  $19,900,000\n",
       "4           Joe Flacco              QB  DEN  $18,500,000\n",
       "...                ...             ...  ...          ...\n",
       "1909  D'Ernest Johnson              RB  CLE     $495,000\n",
       "1910  Garrett Bradbury              OL  MIN     $495,000\n",
       "1911      Alex Redmond               G  CIN     $493,236\n",
       "1912       Holton Hill              CB  MIN     $435,882\n",
       "1913    Tyrone Swoopes              TE  SEA     $378,034\n",
       "\n",
       "[1914 rows x 4 columns]"
      ]
     },
     "execution_count": 8,
     "metadata": {},
     "output_type": "execute_result"
    }
   ],
   "source": [
    "## store it into a copy called nfl_df\n",
    "nfl_df = tables[1] \n",
    "nfl_df"
   ]
  },
  {
   "cell_type": "code",
   "execution_count": 9,
   "metadata": {
    "colab": {
     "base_uri": "https://localhost:8080/"
    },
    "id": "8kBR6nG8Ex48",
    "outputId": "9d9536d0-c4d1-4c94-d359-006ff8583c74"
   },
   "outputs": [
    {
     "name": "stderr",
     "output_type": "stream",
     "text": [
      "ic| f\"{filename} is in your project folder!\": 'nfl_2019_salaries.csv is in your project folder!'\n"
     ]
    },
    {
     "data": {
      "text/plain": [
       "'nfl_2019_salaries.csv is in your project folder!'"
      ]
     },
     "execution_count": 9,
     "metadata": {},
     "output_type": "execute_result"
    }
   ],
   "source": [
    "## use pandas to write to csv file\n",
    "filename = \"nfl_2019_salaries.csv\"\n",
    "nfl_df.to_csv(filename, encoding='utf-8', index=False)\n",
    "\n",
    "ic(f\"{filename} is in your project folder!\")"
   ]
  },
  {
   "cell_type": "code",
   "execution_count": 7,
   "metadata": {
    "colab": {
     "base_uri": "https://localhost:8080/"
    },
    "id": "LqXq9CznPhDH",
    "outputId": "aba40168-0711-47ff-b0e2-4412172d53c9"
   },
   "outputs": [
    {
     "name": "stdout",
     "output_type": "stream",
     "text": [
      "nfl_2019_salaries.csv\n"
     ]
    }
   ],
   "source": [
    "print (filename)"
   ]
  },
  {
   "cell_type": "markdown",
   "metadata": {
    "id": "v1Fb04p6Ex48"
   },
   "source": [
    "## 2.  Scrape a single page of non-tabular data"
   ]
  },
  {
   "cell_type": "markdown",
   "metadata": {
    "id": "2C8EByoLEx48"
   },
   "source": [
    "\n",
    "\n",
    "Scrape the following info from <a href=\"https://www.addictioncenter.com/treatment/top-10-drug-treatment-centers/\">this page</a>:\n",
    "    \n",
    "- Name of rehab center\n",
    "- Location\n",
    "- Phone number\n",
    "- URL\n",
    "\n",
    "Export the data into a csv file called ```rehabs.csv```.\n"
   ]
  },
  {
   "cell_type": "code",
   "execution_count": 15,
   "metadata": {
    "id": "hpMAgVclEx49"
   },
   "outputs": [],
   "source": [
    "url = \"https://www.addictioncenter.com/treatment/top-10-drug-treatment-centers/\""
   ]
  },
  {
   "cell_type": "code",
   "execution_count": 16,
   "metadata": {
    "colab": {
     "base_uri": "https://localhost:8080/"
    },
    "id": "4-eSD4sNEx49",
    "outputId": "c98e3f44-f82c-4983-af66-f2aa1c268fc4"
   },
   "outputs": [
    {
     "name": "stderr",
     "output_type": "stream",
     "text": [
      "ic| page.status_code: 200\n"
     ]
    },
    {
     "data": {
      "text/plain": [
       "200"
      ]
     },
     "execution_count": 16,
     "metadata": {},
     "output_type": "execute_result"
    }
   ],
   "source": [
    "page = requests.get(url)\n",
    "ic(page.status_code)"
   ]
  },
  {
   "cell_type": "code",
   "execution_count": 17,
   "metadata": {
    "id": "so4oFSsTEx49"
   },
   "outputs": [],
   "source": [
    "soup = BeautifulSoup(page.content, \"html.parser\")"
   ]
  },
  {
   "cell_type": "code",
   "execution_count": 18,
   "metadata": {
    "colab": {
     "base_uri": "https://localhost:8080/"
    },
    "id": "16TCPlBIEx49",
    "outputId": "cffe8fb4-f371-4d81-8540-a71d71ee7f3c"
   },
   "outputs": [
    {
     "data": {
      "text/plain": [
       "[<div class=\"RehabListItem__header\">\n",
       " <div class=\"RehabListItem__col RehabListItem__col--left\">\n",
       " <h3>All Points North Lodge</h3>\n",
       " <p>Edwards, Colorado</p>\n",
       " </div>\n",
       " <div class=\"RehabListItem__col RehabListItem__col--right\">\n",
       " <a class=\"btn btn-primary btn-small\" href=\"tel:8884101870\">8884101870</a>\n",
       " <a class=\"btn btn-outline btn-small\" href=\"https://apnlodge.com/ls/mental-health-trauma-addiction-wwr/\" rel=\"noopener\" target=\"_blank\">Visit Website</a>\n",
       " </div>\n",
       " </div>,\n",
       " <div class=\"RehabListItem__header\">\n",
       " <div class=\"RehabListItem__col RehabListItem__col--left\">\n",
       " <h3>All Points North Lodge</h3>\n",
       " <p>Colorado</p>\n",
       " </div>\n",
       " <div class=\"RehabListItem__col RehabListItem__col--right\">\n",
       " <a class=\"btn btn-primary btn-small\" href=\"tel:8884101870\">8884101870</a>\n",
       " <a class=\"btn btn-outline btn-small\" href=\"https://apnlodge.com/ls/mental-health-trauma-addiction-wwr/\" rel=\"noopener\" target=\"_blank\">Visit Website</a>\n",
       " </div>\n",
       " </div>,\n",
       " <div class=\"RehabListItem__header\">\n",
       " <div class=\"RehabListItem__col RehabListItem__col--left\">\n",
       " <h3>The Hope House</h3>\n",
       " <p>Scottsdale, Arizona</p>\n",
       " </div>\n",
       " <div class=\"RehabListItem__col RehabListItem__col--right\">\n",
       " <a class=\"btn btn-primary btn-small\" href=\"tel:8888140480\">8888140480</a>\n",
       " <a class=\"btn btn-outline btn-small\" href=\"https://www.thehopehouse.com/locations/arizona/scottsdale-rehab/?utm_source=recovery-worldwide&amp;;utm_medium=cpc&amp;utm_campaign=top10&amp;utm_content=pos4\" rel=\"noopener\" target=\"_blank\">Visit Website</a>\n",
       " </div>\n",
       " </div>,\n",
       " <div class=\"RehabListItem__header\">\n",
       " <div class=\"RehabListItem__col RehabListItem__col--left\">\n",
       " <h3>Boca Recovery Centers</h3>\n",
       " <p>Locations in New Jersey and Florida</p>\n",
       " </div>\n",
       " <div class=\"RehabListItem__col RehabListItem__col--right\">\n",
       " <a class=\"btn btn-primary btn-small\" href=\"tel:8449234973\">8449234973</a>\n",
       " <a class=\"btn btn-outline btn-small\" href=\"https://bocarecoverycenter.com/?utm_source=referral&amp;utm_medium=banner&amp;utm_campaign=addiction_center\" rel=\"noopener\" target=\"_blank\">Visit Website</a>\n",
       " </div>\n",
       " </div>,\n",
       " <div class=\"RehabListItem__header\">\n",
       " <div class=\"RehabListItem__col RehabListItem__col--left\">\n",
       " <h3>Recovery Unplugged</h3>\n",
       " <p>Locations in Texas, Florida, Tennessee, and Virginia</p>\n",
       " </div>\n",
       " <div class=\"RehabListItem__col RehabListItem__col--right\">\n",
       " <a class=\"btn btn-primary btn-small\" href=\"tel:8333782481\">8333782481</a>\n",
       " <a class=\"btn btn-outline btn-small\" href=\"https://www.recoveryunplugged.com/locations/nashville-drug-rehab-center/?utm_source=AddictionCenter&amp;utm_campaign=Nashville\" rel=\"noopener\" target=\"_blank\">Visit Website</a>\n",
       " </div>\n",
       " </div>,\n",
       " <div class=\"RehabListItem__header\">\n",
       " <div class=\"RehabListItem__col RehabListItem__col--left\">\n",
       " <h3>Recovery Unplugged</h3>\n",
       " <p>Locations in Texas, Florida, Tennessee, and Virginia</p>\n",
       " </div>\n",
       " <div class=\"RehabListItem__col RehabListItem__col--right\">\n",
       " <a class=\"btn btn-primary btn-small\" href=\"tel:8333782481\">8333782481</a>\n",
       " <a class=\"btn btn-outline btn-small\" href=\"https://www.recoveryunplugged.com/locations/nashville-drug-rehab-center/?utm_source=AddictionCenter&amp;utm_campaign=Nashville\" rel=\"noopener\" target=\"_blank\">Visit Website</a>\n",
       " </div>\n",
       " </div>,\n",
       " <div class=\"RehabListItem__header\">\n",
       " <div class=\"RehabListItem__col RehabListItem__col--left\">\n",
       " <h3>Southeast Addiction Centers</h3>\n",
       " <p>Locations in Atlanta, GA and Nashville, TN</p>\n",
       " </div>\n",
       " <div class=\"RehabListItem__col RehabListItem__col--right\">\n",
       " <a class=\"btn btn-primary btn-small\" href=\"tel:8557602489\">8557602489</a>\n",
       " <a class=\"btn btn-outline btn-small\" href=\"https://southeastaddiction.com/\" rel=\"noopener\" target=\"_blank\">Visit Website</a>\n",
       " </div>\n",
       " </div>,\n",
       " <div class=\"RehabListItem__header\">\n",
       " <div class=\"RehabListItem__col RehabListItem__col--left\">\n",
       " <h3>Dana Point Rehab Campus</h3>\n",
       " <p>Dana Point, California</p>\n",
       " </div>\n",
       " <div class=\"RehabListItem__col RehabListItem__col--right\">\n",
       " <a class=\"btn btn-primary btn-small\" href=\"tel:8339410362\">8339410362</a>\n",
       " <a class=\"btn btn-outline btn-small\" href=\"https://danapointrehabcampus.com/\" rel=\"noopener\" target=\"_blank\">Visit Website</a>\n",
       " </div>\n",
       " </div>,\n",
       " <div class=\"RehabListItem__header\">\n",
       " <div class=\"RehabListItem__col RehabListItem__col--left\">\n",
       " <h3>United Recovery Project</h3>\n",
       " <p>Hollywood, Florida</p>\n",
       " </div>\n",
       " <div class=\"RehabListItem__col RehabListItem__col--right\">\n",
       " <a class=\"btn btn-primary btn-small\" href=\"tel:8774641377\">8774641377</a>\n",
       " <a class=\"btn btn-outline btn-small\" href=\"https://gethelp.unitedrecoveryproject.com/addictioncenter/\" rel=\"noopener\" target=\"_blank\">Visit Website</a>\n",
       " </div>\n",
       " </div>,\n",
       " <div class=\"RehabListItem__header\">\n",
       " <div class=\"RehabListItem__col RehabListItem__col--left\">\n",
       " <h3>Riverwalk Ranch</h3>\n",
       " <p>Mansfield, Texas</p>\n",
       " </div>\n",
       " <div class=\"RehabListItem__col RehabListItem__col--right\">\n",
       " <a class=\"btn btn-primary btn-small\" href=\"tel:8556695083\">8556695083</a>\n",
       " <a class=\"btn btn-outline btn-small\" href=\"https://riverwalkranch.com/\" rel=\"noopener\" target=\"_blank\">Visit Website</a>\n",
       " </div>\n",
       " </div>,\n",
       " <div class=\"RehabListItem__header\">\n",
       " <div class=\"RehabListItem__col RehabListItem__col--left\">\n",
       " <h3 x-html=\"rehab.title\"></h3>\n",
       " <template x-if=\"rehab.location.length &gt; 0\">\n",
       " <p x-text=\"rehab.location\"></p>\n",
       " </template>\n",
       " </div>\n",
       " <div class=\"RehabListItem__col RehabListItem__col--right\">\n",
       " <template x-if=\"rehab.phone.length &gt; 0\">\n",
       " <a class=\"btn btn-primary btn-small\" x-bind:href=\"('tel:' + rehab.phone)\" x-text=\"rehab.phone_masked\"></a>\n",
       " </template>\n",
       " <template x-if=\"rehab.website.length &gt; 0\">\n",
       " <a class=\"btn btn-outline btn-small\" rel=\"noopener\" target=\"_blank\" x-bind:href=\"rehab.website\">Visit Website</a>\n",
       " </template>\n",
       " </div>\n",
       " </div>]"
      ]
     },
     "execution_count": 18,
     "metadata": {},
     "output_type": "execute_result"
    }
   ],
   "source": [
    "target_content = soup.find_all(\"div\", class_=\"RehabListItem__header\")\n",
    "target_content"
   ]
  },
  {
   "cell_type": "code",
   "execution_count": 19,
   "metadata": {
    "id": "E6Mn6-ba481_"
   },
   "outputs": [],
   "source": [
    "## NOTE how the last item the list has not target content. we we slice it off\n",
    "## and update our target_content list\n",
    "target_content = target_content[0:-1]"
   ]
  },
  {
   "cell_type": "code",
   "execution_count": 20,
   "metadata": {
    "colab": {
     "base_uri": "https://localhost:8080/"
    },
    "id": "g88vL-xIEx49",
    "outputId": "182436b2-3b02-431e-c046-18178b015b32"
   },
   "outputs": [
    {
     "data": {
      "text/plain": [
       "['All Points North Lodge',\n",
       " 'All Points North Lodge',\n",
       " 'The Hope House',\n",
       " 'Boca Recovery Centers',\n",
       " 'Recovery Unplugged',\n",
       " 'Recovery Unplugged',\n",
       " 'Southeast Addiction Centers',\n",
       " 'Dana Point Rehab Campus',\n",
       " 'United Recovery Project',\n",
       " 'Riverwalk Ranch']"
      ]
     },
     "execution_count": 20,
     "metadata": {},
     "output_type": "execute_result"
    }
   ],
   "source": [
    "names = [target.find(\"h3\").get_text() for target in target_content]\n",
    "names"
   ]
  },
  {
   "cell_type": "code",
   "execution_count": 21,
   "metadata": {
    "colab": {
     "base_uri": "https://localhost:8080/"
    },
    "id": "tgkZawO4Ex4-",
    "outputId": "d6965149-4558-4780-86ea-71039aede06d"
   },
   "outputs": [
    {
     "data": {
      "text/plain": [
       "['Edwards, Colorado',\n",
       " 'Colorado',\n",
       " 'Scottsdale, Arizona',\n",
       " 'Locations in New Jersey and Florida',\n",
       " 'Locations in Texas, Florida, Tennessee, and Virginia',\n",
       " 'Locations in Texas, Florida, Tennessee, and Virginia',\n",
       " 'Locations in Atlanta, GA and Nashville, TN',\n",
       " 'Dana Point, California',\n",
       " 'Hollywood, Florida',\n",
       " 'Mansfield, Texas']"
      ]
     },
     "execution_count": 21,
     "metadata": {},
     "output_type": "execute_result"
    }
   ],
   "source": [
    "locations = [target.find(\"p\").get_text() for target in target_content]\n",
    "locations"
   ]
  },
  {
   "cell_type": "code",
   "execution_count": 22,
   "metadata": {
    "colab": {
     "base_uri": "https://localhost:8080/"
    },
    "id": "OFpAGZSaEx4-",
    "outputId": "ad3c5685-e458-4ec0-d833-302d49cc9c47"
   },
   "outputs": [
    {
     "data": {
      "text/plain": [
       "['8884101870',\n",
       " '8884101870',\n",
       " '8888140480',\n",
       " '8449234973',\n",
       " '8333782481',\n",
       " '8333782481',\n",
       " '8557602489',\n",
       " '8339410362',\n",
       " '8774641377',\n",
       " '8556695083']"
      ]
     },
     "execution_count": 22,
     "metadata": {},
     "output_type": "execute_result"
    }
   ],
   "source": [
    "## we have the option of going for the formatted a tag:\n",
    "telephone_numbers_1 = [target.find(\"a\", class_=\"btn-primary\").get_text() for target in target_content]\n",
    "telephone_numbers_1"
   ]
  },
  {
   "cell_type": "code",
   "execution_count": 23,
   "metadata": {
    "colab": {
     "base_uri": "https://localhost:8080/"
    },
    "id": "Vf5K0X1iEx4-",
    "outputId": "4d61db97-1650-42b2-d5cb-633205111a06"
   },
   "outputs": [
    {
     "data": {
      "text/plain": [
       "['8884101870',\n",
       " '8884101870',\n",
       " '8888140480',\n",
       " '8449234973',\n",
       " '8333782481',\n",
       " '8333782481',\n",
       " '8557602489',\n",
       " '8339410362',\n",
       " '8774641377',\n",
       " '8556695083']"
      ]
     },
     "execution_count": 23,
     "metadata": {},
     "output_type": "execute_result"
    }
   ],
   "source": [
    "## OR we have the option of targetting the href:\n",
    "telephone_numbers_2 = [target.find(\"a\", class_=\"btn-primary\").get(\"href\").strip(\"tel:\") for target in target_content]\n",
    "telephone_numbers_2"
   ]
  },
  {
   "cell_type": "code",
   "execution_count": 24,
   "metadata": {
    "colab": {
     "base_uri": "https://localhost:8080/"
    },
    "id": "VhqzdQEfEx4-",
    "outputId": "cf47ea8a-5760-4992-c98e-13e9adc9cac5"
   },
   "outputs": [
    {
     "data": {
      "text/plain": [
       "['https://apnlodge.com/ls/mental-health-trauma-addiction-wwr/',\n",
       " 'https://apnlodge.com/ls/mental-health-trauma-addiction-wwr/',\n",
       " 'https://www.thehopehouse.com/locations/arizona/scottsdale-rehab/?utm_source=recovery-worldwide&;utm_medium=cpc&utm_campaign=top10&utm_content=pos4',\n",
       " 'https://bocarecoverycenter.com/?utm_source=referral&utm_medium=banner&utm_campaign=addiction_center',\n",
       " 'https://www.recoveryunplugged.com/locations/nashville-drug-rehab-center/?utm_source=AddictionCenter&utm_campaign=Nashville',\n",
       " 'https://www.recoveryunplugged.com/locations/nashville-drug-rehab-center/?utm_source=AddictionCenter&utm_campaign=Nashville',\n",
       " 'https://southeastaddiction.com/',\n",
       " 'https://danapointrehabcampus.com/',\n",
       " 'https://gethelp.unitedrecoveryproject.com/addictioncenter/',\n",
       " 'https://riverwalkranch.com/']"
      ]
     },
     "execution_count": 24,
     "metadata": {},
     "output_type": "execute_result"
    }
   ],
   "source": [
    "urls = [target.find(\"a\", class_=\"btn-outline\").get(\"href\") for target in target_content]\n",
    "urls"
   ]
  },
  {
   "cell_type": "code",
   "execution_count": 26,
   "metadata": {
    "colab": {
     "base_uri": "https://localhost:8080/",
     "height": 441
    },
    "id": "m7NnCBdCEx4_",
    "outputId": "27eecd15-0980-4228-e9eb-1c98ab42675e"
   },
   "outputs": [
    {
     "data": {
      "text/html": [
       "<div>\n",
       "<style scoped>\n",
       "    .dataframe tbody tr th:only-of-type {\n",
       "        vertical-align: middle;\n",
       "    }\n",
       "\n",
       "    .dataframe tbody tr th {\n",
       "        vertical-align: top;\n",
       "    }\n",
       "\n",
       "    .dataframe thead th {\n",
       "        text-align: right;\n",
       "    }\n",
       "</style>\n",
       "<table border=\"1\" class=\"dataframe\">\n",
       "  <thead>\n",
       "    <tr style=\"text-align: right;\">\n",
       "      <th></th>\n",
       "      <th>name</th>\n",
       "      <th>location</th>\n",
       "      <th>telephone</th>\n",
       "      <th>url</th>\n",
       "    </tr>\n",
       "  </thead>\n",
       "  <tbody>\n",
       "    <tr>\n",
       "      <th>0</th>\n",
       "      <td>All Points North Lodge</td>\n",
       "      <td>Edwards, Colorado</td>\n",
       "      <td>8884101870</td>\n",
       "      <td>https://apnlodge.com/ls/mental-health-trauma-a...</td>\n",
       "    </tr>\n",
       "    <tr>\n",
       "      <th>1</th>\n",
       "      <td>All Points North Lodge</td>\n",
       "      <td>Colorado</td>\n",
       "      <td>8884101870</td>\n",
       "      <td>https://apnlodge.com/ls/mental-health-trauma-a...</td>\n",
       "    </tr>\n",
       "    <tr>\n",
       "      <th>2</th>\n",
       "      <td>The Hope House</td>\n",
       "      <td>Scottsdale, Arizona</td>\n",
       "      <td>8888140480</td>\n",
       "      <td>https://www.thehopehouse.com/locations/arizona...</td>\n",
       "    </tr>\n",
       "    <tr>\n",
       "      <th>3</th>\n",
       "      <td>Boca Recovery Centers</td>\n",
       "      <td>Locations in New Jersey and Florida</td>\n",
       "      <td>8449234973</td>\n",
       "      <td>https://bocarecoverycenter.com/?utm_source=ref...</td>\n",
       "    </tr>\n",
       "    <tr>\n",
       "      <th>4</th>\n",
       "      <td>Recovery Unplugged</td>\n",
       "      <td>Locations in Texas, Florida, Tennessee, and Vi...</td>\n",
       "      <td>8333782481</td>\n",
       "      <td>https://www.recoveryunplugged.com/locations/na...</td>\n",
       "    </tr>\n",
       "    <tr>\n",
       "      <th>5</th>\n",
       "      <td>Recovery Unplugged</td>\n",
       "      <td>Locations in Texas, Florida, Tennessee, and Vi...</td>\n",
       "      <td>8333782481</td>\n",
       "      <td>https://www.recoveryunplugged.com/locations/na...</td>\n",
       "    </tr>\n",
       "    <tr>\n",
       "      <th>6</th>\n",
       "      <td>Southeast Addiction Centers</td>\n",
       "      <td>Locations in Atlanta, GA and Nashville, TN</td>\n",
       "      <td>8557602489</td>\n",
       "      <td>https://southeastaddiction.com/</td>\n",
       "    </tr>\n",
       "    <tr>\n",
       "      <th>7</th>\n",
       "      <td>Dana Point Rehab Campus</td>\n",
       "      <td>Dana Point, California</td>\n",
       "      <td>8339410362</td>\n",
       "      <td>https://danapointrehabcampus.com/</td>\n",
       "    </tr>\n",
       "    <tr>\n",
       "      <th>8</th>\n",
       "      <td>United Recovery Project</td>\n",
       "      <td>Hollywood, Florida</td>\n",
       "      <td>8774641377</td>\n",
       "      <td>https://gethelp.unitedrecoveryproject.com/addi...</td>\n",
       "    </tr>\n",
       "    <tr>\n",
       "      <th>9</th>\n",
       "      <td>Riverwalk Ranch</td>\n",
       "      <td>Mansfield, Texas</td>\n",
       "      <td>8556695083</td>\n",
       "      <td>https://riverwalkranch.com/</td>\n",
       "    </tr>\n",
       "  </tbody>\n",
       "</table>\n",
       "</div>"
      ],
      "text/plain": [
       "                          name  \\\n",
       "0       All Points North Lodge   \n",
       "1       All Points North Lodge   \n",
       "2               The Hope House   \n",
       "3        Boca Recovery Centers   \n",
       "4           Recovery Unplugged   \n",
       "5           Recovery Unplugged   \n",
       "6  Southeast Addiction Centers   \n",
       "7      Dana Point Rehab Campus   \n",
       "8      United Recovery Project   \n",
       "9              Riverwalk Ranch   \n",
       "\n",
       "                                            location   telephone  \\\n",
       "0                                  Edwards, Colorado  8884101870   \n",
       "1                                           Colorado  8884101870   \n",
       "2                                Scottsdale, Arizona  8888140480   \n",
       "3                Locations in New Jersey and Florida  8449234973   \n",
       "4  Locations in Texas, Florida, Tennessee, and Vi...  8333782481   \n",
       "5  Locations in Texas, Florida, Tennessee, and Vi...  8333782481   \n",
       "6         Locations in Atlanta, GA and Nashville, TN  8557602489   \n",
       "7                             Dana Point, California  8339410362   \n",
       "8                                 Hollywood, Florida  8774641377   \n",
       "9                                   Mansfield, Texas  8556695083   \n",
       "\n",
       "                                                 url  \n",
       "0  https://apnlodge.com/ls/mental-health-trauma-a...  \n",
       "1  https://apnlodge.com/ls/mental-health-trauma-a...  \n",
       "2  https://www.thehopehouse.com/locations/arizona...  \n",
       "3  https://bocarecoverycenter.com/?utm_source=ref...  \n",
       "4  https://www.recoveryunplugged.com/locations/na...  \n",
       "5  https://www.recoveryunplugged.com/locations/na...  \n",
       "6                    https://southeastaddiction.com/  \n",
       "7                  https://danapointrehabcampus.com/  \n",
       "8  https://gethelp.unitedrecoveryproject.com/addi...  \n",
       "9                        https://riverwalkranch.com/  "
      ]
     },
     "execution_count": 26,
     "metadata": {},
     "output_type": "execute_result"
    }
   ],
   "source": [
    "df = pd.DataFrame(list(zip(names, locations, telephone_numbers_1, urls)), \n",
    "               columns =['name', \"location\",'telephone', 'url'])\n",
    "\n",
    "df"
   ]
  },
  {
   "cell_type": "code",
   "execution_count": 27,
   "metadata": {
    "colab": {
     "base_uri": "https://localhost:8080/"
    },
    "id": "QTjpnxCMEx4_",
    "outputId": "44d30bda-d27a-4d42-8aef-0d60b54c4f4f"
   },
   "outputs": [
    {
     "name": "stdout",
     "output_type": "stream",
     "text": [
      "rehabs.csv is in your project folder!\n"
     ]
    }
   ],
   "source": [
    "## export to csv\n",
    "filename = \"rehabs.csv\"\n",
    "df.to_csv(filename, encoding='utf-8', index=False) ## export to csv as utf-8 coding (it just has to be this)\n",
    "\n",
    "print(f\"{filename} is in your project folder!\") ## a print out that tells us the file is ready"
   ]
  },
  {
   "cell_type": "markdown",
   "metadata": {
    "id": "HiQPusQgEx4_"
   },
   "source": [
    "# Challenge\n",
    "\n",
    "## 3. Convert the \"write to csv file\" code into a function\n",
    "\n",
    "Notice how you keep having to write the same code everytime you export a dataframe as csv.\n",
    "Convert it into a function so you just have to call the function with arguments like filename and which dataframe to convert."
   ]
  },
  {
   "cell_type": "code",
   "execution_count": 28,
   "metadata": {
    "id": "z2GIec2wEx4_"
   },
   "outputs": [],
   "source": [
    "def create_csv(df_name, file_name):\n",
    "    '''\n",
    "    Export your dataframe as a csv\n",
    "    argument 1 = your dataframe name\n",
    "    argument 2 = your file name as a string. Must include .csv\n",
    "    For example \"my_data.csv\"\n",
    "    '''\n",
    "    df_name.to_csv(file_name, encoding='utf-8', index=False )\n",
    "    print(f\"{file_name} is in your local folder!\")"
   ]
  },
  {
   "cell_type": "code",
   "execution_count": 29,
   "metadata": {
    "colab": {
     "base_uri": "https://localhost:8080/"
    },
    "id": "opN8HIUEEx4_",
    "outputId": "260ade88-a8ee-4b41-bcd8-3a1f1eaa045d"
   },
   "outputs": [
    {
     "name": "stdout",
     "output_type": "stream",
     "text": [
      "rehab2.csv is in your local folder!\n"
     ]
    }
   ],
   "source": [
    "## test it out on top_companies nfl\n",
    "create_csv(df, \"rehab2.csv\")"
   ]
  },
  {
   "cell_type": "code",
   "execution_count": 20,
   "metadata": {
    "id": "B0r7kASpEx5A"
   },
   "outputs": [],
   "source": []
  }
 ],
 "metadata": {
  "colab": {
   "name": "homework-for-week-6B_SOLUTION.ipynb",
   "provenance": []
  },
  "kernelspec": {
   "display_name": "Python 3",
   "language": "python",
   "name": "python3"
  },
  "language_info": {
   "codemirror_mode": {
    "name": "ipython",
    "version": 3
   },
   "file_extension": ".py",
   "mimetype": "text/x-python",
   "name": "python",
   "nbconvert_exporter": "python",
   "pygments_lexer": "ipython3",
   "version": "3.8.8"
  }
 },
 "nbformat": 4,
 "nbformat_minor": 1
}
