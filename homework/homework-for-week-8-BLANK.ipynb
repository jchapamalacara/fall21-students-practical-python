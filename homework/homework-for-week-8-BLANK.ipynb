{
  "nbformat": 4,
  "nbformat_minor": 0,
  "metadata": {
    "colab": {
      "name": "homework-for-week-8-BLANK.ipynb",
      "provenance": [],
      "collapsed_sections": []
    },
    "kernelspec": {
      "name": "python3",
      "display_name": "Python 3"
    }
  },
  "cells": [
    {
      "cell_type": "markdown",
      "metadata": {
        "id": "s72TOboY74hw"
      },
      "source": [
        "Write a scraper to download the documents from <a href=\"http://dof.ca.gov/Forecasting/Economics/Economic_and_Revenue_Updates/\">this site</a>. \n",
        "\n",
        "NOTE: \n",
        "\n",
        "- There are different tags you might target to get the same final results.\n",
        "\n",
        "- COLAB ONLY: Because of Colab issues, Not ALL the files will actually download to your desktop. I’ll show you a workaround during class.\n",
        "\n",
        "- When it's time to use ```wget``` your code might throw an ```SSL error```. Just run the code below:\n"
      ]
    },
    {
      "cell_type": "code",
      "metadata": {
        "id": "lyESng5tC4V7"
      },
      "source": [
        "## if you get an error in the wget step come back and run this step\n",
        "import ssl\n",
        "ssl._create_default_https_context = ssl._create_unverified_context"
      ],
      "execution_count": null,
      "outputs": []
    }
  ]
}