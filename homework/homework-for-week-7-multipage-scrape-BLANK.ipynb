{
  "nbformat": 4,
  "nbformat_minor": 0,
  "metadata": {
    "kernelspec": {
      "display_name": "Python 3",
      "language": "python",
      "name": "python3"
    },
    "language_info": {
      "codemirror_mode": {
        "name": "ipython",
        "version": 3
      },
      "file_extension": ".py",
      "mimetype": "text/x-python",
      "name": "python",
      "nbconvert_exporter": "python",
      "pygments_lexer": "ipython3",
      "version": "3.8.3"
    },
    "colab": {
      "name": "homework-for-week-7-multipage-scrape_BLANK.ipynb",
      "provenance": [],
      "collapsed_sections": []
    }
  },
  "cells": [
    {
      "cell_type": "markdown",
      "metadata": {
        "id": "mBfDX-GhmJg3"
      },
      "source": [
        "## Multipage Tabular Scrape\n",
        "\n",
        "- <a href=\"https://apps.health.ny.gov/pubdoh/professionals/doctors/conduct/factions/AllRecordsAction.action\">On this site</a>, scrape all doctors whose last names begin with \"Z\".\n",
        "- Export the content into a CSV file called ```md_Z.csv```.\n"
      ]
    },
    {
      "cell_type": "code",
      "metadata": {
        "id": "wq2tpZ1zmJg9"
      },
      "source": [
        ""
      ],
      "execution_count": null,
      "outputs": []
    }
  ]
}